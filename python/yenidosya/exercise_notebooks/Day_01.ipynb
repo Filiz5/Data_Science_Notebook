{
 "cells": [
  {
   "cell_type": "markdown",
   "metadata": {},
   "source": [
    "# Question 1\n",
    "\n",
    "### **Question:**\n",
    "\n",
    "> **_Write a program which will find all such numbers which are divisible by 7 but are not a multiple of 5,\n",
    "> between 2000 and 3200 (both included).The numbers obtained should be printed in a comma-separated sequence on a single line._**\n",
    "\n",
    "---\n",
    "\n",
    "### Hints:\n",
    "\n",
    "> **_Consider use range(#begin, #end) method._**\n",
    "\n",
    "---\n",
    "\n",
    "\n",
    "\n",
    "**Solutions:**\n",
    "\n",
    "- **Using for loops**"
   ]
  },
  {
   "cell_type": "code",
   "execution_count": 4,
   "metadata": {},
   "outputs": [
    {
     "name": "stdout",
     "output_type": "stream",
     "text": [
      "2002,2009,2016,2023,2037,2044,2051,2058,2072,2079,2086,2093,2107,2114,2121,2128,2142,2149,2156,2163,2177,2184,2191,2198,2212,2219,2226,2233,2247,2254,2261,2268,2282,2289,2296,2303,2317,2324,2331,2338,2352,2359,2366,2373,2387,2394,2401,2408,2422,2429,2436,2443,2457,2464,2471,2478,2492,2499,2506,2513,2527,2534,2541,2548,2562,2569,2576,2583,2597,2604,2611,2618,2632,2639,2646,2653,2667,2674,2681,2688,2702,2709,2716,2723,2737,2744,2751,2758,2772,2779,2786,2793,2807,2814,2821,2828,2842,2849,2856,2863,2877,2884,2891,2898,2912,2919,2926,2933,2947,2954,2961,2968,2982,2989,2996,3003,3017,3024,3031,3038,3052,3059,3066,3073,3087,3094,3101,3108,3122,3129,3136,3143,3157,3164,3171,3178,3192,3199\n"
     ]
    }
   ],
   "source": [
    "for i in range(2000, 3201):\n",
    "    if i %7==0 and i %5!=0:\n",
    "        print(i,end=\",\")\n",
    "print(\"\\b\")"
   ]
  },
  {
   "cell_type": "code",
   "execution_count": 5,
   "metadata": {},
   "outputs": [
    {
     "name": "stdout",
     "output_type": "stream",
     "text": [
      "2002 2009 2016 2023 2037 2044 2051 2058 2072 2079 2086 2093 2107 2114 2121 2128 2142 2149 2156 2163 2177 2184 2191 2198 2212 2219 2226 2233 2247 2254 2261 2268 2282 2289 2296 2303 2317 2324 2331 2338 2352 2359 2366 2373 2387 2394 2401 2408 2422 2429 2436 2443 2457 2464 2471 2478 2492 2499 2506 2513 2527 2534 2541 2548 2562 2569 2576 2583 2597 2604 2611 2618 2632 2639 2646 2653 2667 2674 2681 2688 2702 2709 2716 2723 2737 2744 2751 2758 2772 2779 2786 2793 2807 2814 2821 2828 2842 2849 2856 2863 2877 2884 2891 2898 2912 2919 2926 2933 2947 2954 2961 2968 2982 2989 2996 3003 3017 3024 3031 3038 3052 3059 3066 3073 3087 3094 3101 3108 3122 3129 3136 3143 3157 3164 3171 3178 3192 3199\n"
     ]
    }
   ],
   "source": [
    "print(*(i for i in range(2000,3201) if i %7==0 and i%5 !=0))"
   ]
  },
  {
   "cell_type": "code",
   "execution_count": 12,
   "metadata": {},
   "outputs": [
    {
     "name": "stdout",
     "output_type": "stream",
     "text": [
      "2002,2009,2016,2023,2037,2044,2051,2058,2072,2079,2086,2093,2107,2114,2121,2128,2142,2149,2156,2163,2177,2184,2191,2198,2212,2219,2226,2233,2247,2254,2261,2268,2282,2289,2296,2303,2317,2324,2331,2338,2352,2359,2366,2373,2387,2394,2401,2408,2422,2429,2436,2443,2457,2464,2471,2478,2492,2499,2506,2513,2527,2534,2541,2548,2562,2569,2576,2583,2597,2604,2611,2618,2632,2639,2646,2653,2667,2674,2681,2688,2702,2709,2716,2723,2737,2744,2751,2758,2772,2779,2786,2793,2807,2814,2821,2828,2842,2849,2856,2863,2877,2884,2891,2898,2912,2919,2926,2933,2947,2954,2961,2968,2982,2989,2996,3003,3017,3024,3031,3038,3052,3059,3066,3073,3087,3094,3101,3108,3122,3129,3136,3143,3157,3164,3171,3178,3192,3199\n"
     ]
    }
   ],
   "source": [
    "print(*(i for i in range(2000,3201) if i %7==0 and i%5 !=0),sep=\",\")#wiht tupple"
   ]
  },
  {
   "cell_type": "code",
   "execution_count": 9,
   "metadata": {},
   "outputs": [
    {
     "name": "stdout",
     "output_type": "stream",
     "text": [
      "{3073, 2562, 2051, 2569, 2058, 3087, 2576, 3094, 2583, 2072, 3101, 2079, 3108, 2597, 2086, 2604, 2093, 3122, 2611, 3129, 2618, 2107, 3136, 2114, 3143, 2632, 2121, 2639, 2128, 3157, 2646, 3164, 2653, 2142, 3171, 2149, 3178, 2667, 2156, 2674, 2163, 3192, 2681, 3199, 2688, 2177, 2184, 2702, 2191, 2709, 2198, 2716, 2723, 2212, 2219, 2737, 2226, 2744, 2233, 2751, 2758, 2247, 2254, 2772, 2261, 2779, 2268, 2786, 2793, 2282, 2289, 2807, 2296, 2814, 2303, 2821, 2828, 2317, 2324, 2842, 2331, 2849, 2338, 2856, 2863, 2352, 2359, 2877, 2366, 2884, 2373, 2891, 2898, 2387, 2394, 2912, 2401, 2919, 2408, 2926, 2933, 2422, 2429, 2947, 2436, 2954, 2443, 2961, 2968, 2457, 2464, 2982, 2471, 2989, 2478, 2996, 3003, 2492, 2499, 3017, 2506, 3024, 2513, 2002, 3031, 2009, 3038, 2527, 2016, 2534, 2023, 3052, 2541, 3059, 2548, 2037, 3066, 2044}\n"
     ]
    }
   ],
   "source": [
    "print({i for i in range(2000,3201) if i %7==0 and i%5 !=0}) # set comp. "
   ]
  },
  {
   "cell_type": "code",
   "execution_count": 13,
   "metadata": {},
   "outputs": [
    {
     "name": "stdout",
     "output_type": "stream",
     "text": [
      "<class 'generator'>\n"
     ]
    }
   ],
   "source": [
    "print(type(i for i in range(2000, 3201) if i % 7 == 0 and i % 5 != 0))  #parantezin icindekinin type’i generator oldugunda, next ile kullanabiliyoruz, cagirabiliyoruz; eğer icindekinin type’i function olsaydi next ile kullanamayacaktım."
   ]
  },
  {
   "cell_type": "code",
   "execution_count": 8,
   "metadata": {},
   "outputs": [
    {
     "data": {
      "text/plain": [
       "int"
      ]
     },
     "execution_count": 8,
     "metadata": {},
     "output_type": "execute_result"
    }
   ],
   "source": [
    "type(i)"
   ]
  },
  {
   "cell_type": "code",
   "execution_count": 10,
   "metadata": {},
   "outputs": [
    {
     "name": "stdout",
     "output_type": "stream",
     "text": [
      "[2002, 2009, 2016, 2023, 2037, 2044, 2051, 2058, 2072, 2079, 2086, 2093, 2107, 2114, 2121, 2128, 2142, 2149, 2156, 2163, 2177, 2184, 2191, 2198, 2212, 2219, 2226, 2233, 2247, 2254, 2261, 2268, 2282, 2289, 2296, 2303, 2317, 2324, 2331, 2338, 2352, 2359, 2366, 2373, 2387, 2394, 2401, 2408, 2422, 2429, 2436, 2443, 2457, 2464, 2471, 2478, 2492, 2499, 2506, 2513, 2527, 2534, 2541, 2548, 2562, 2569, 2576, 2583, 2597, 2604, 2611, 2618, 2632, 2639, 2646, 2653, 2667, 2674, 2681, 2688, 2702, 2709, 2716, 2723, 2737, 2744, 2751, 2758, 2772, 2779, 2786, 2793, 2807, 2814, 2821, 2828, 2842, 2849, 2856, 2863, 2877, 2884, 2891, 2898, 2912, 2919, 2926, 2933, 2947, 2954, 2961, 2968, 2982, 2989, 2996, 3003, 3017, 3024, 3031, 3038, 3052, 3059, 3066, 3073, 3087, 3094, 3101, 3108, 3122, 3129, 3136, 3143, 3157, 3164, 3171, 3178, 3192, 3199]\n"
     ]
    }
   ],
   "source": [
    "print([i for i in range(2000,3201) if i %7==0 and i%5 !=0]) #list comperehansion"
   ]
  },
  {
   "cell_type": "code",
   "execution_count": null,
   "metadata": {},
   "outputs": [],
   "source": [
    "liste=[]\n",
    "for i in range(2000,3201):\n",
    "    if i%7==0 and i%5 !=0:\n",
    "        liste.append(i)\n",
    "print(liste)"
   ]
  },
  {
   "cell_type": "code",
   "execution_count": 14,
   "metadata": {},
   "outputs": [
    {
     "name": "stdout",
     "output_type": "stream",
     "text": [
      "[2002, 2009, 2016, 2023, 2037, 2044, 2051, 2058, 2072, 2079, 2086, 2093, 2107, 2114, 2121, 2128, 2142, 2149, 2156, 2163, 2177, 2184, 2191, 2198, 2212, 2219, 2226, 2233, 2247, 2254, 2261, 2268, 2282, 2289, 2296, 2303, 2317, 2324, 2331, 2338, 2352, 2359, 2366, 2373, 2387, 2394, 2401, 2408, 2422, 2429, 2436, 2443, 2457, 2464, 2471, 2478, 2492, 2499, 2506, 2513, 2527, 2534, 2541, 2548, 2562, 2569, 2576, 2583, 2597, 2604, 2611, 2618, 2632, 2639, 2646, 2653, 2667, 2674, 2681, 2688, 2702, 2709, 2716, 2723, 2737, 2744, 2751, 2758, 2772, 2779, 2786, 2793, 2807, 2814, 2821, 2828, 2842, 2849, 2856, 2863, 2877, 2884, 2891, 2898, 2912, 2919, 2926, 2933, 2947, 2954, 2961, 2968, 2982, 2989, 2996, 3003, 3017, 3024, 3031, 3038, 3052, 3059, 3066, 3073, 3087, 3094, 3101, 3108, 3122, 3129, 3136, 3143, 3157, 3164, 3171, 3178, 3192, 3199]\n"
     ]
    }
   ],
   "source": [
    "num=2000\n",
    "result=[]\n",
    "while num<=3200:\n",
    "    if num %7==0 and num %5 !=0:\n",
    "        result.append(num)\n",
    "    num +=1\n",
    "print(result)\n"
   ]
  },
  {
   "cell_type": "code",
   "execution_count": null,
   "metadata": {},
   "outputs": [],
   "source": [
    "for i in range(2000, 3201):\n",
    "    if i % 7 == 0 and i % 5 != 0:\n",
    "        print(i, end=\",\")\n"
   ]
  },
  {
   "cell_type": "markdown",
   "metadata": {},
   "source": [
    "---\n",
    "\n",
    "- **Using generators and list comprehension**"
   ]
  },
  {
   "cell_type": "code",
   "execution_count": null,
   "metadata": {},
   "outputs": [],
   "source": [
    "print(*(i for i in range(2000, 3201) if i % 7 == 0 and i % 5 != 0)) "
   ]
  },
  {
   "cell_type": "code",
   "execution_count": null,
   "metadata": {},
   "outputs": [],
   "source": [
    "print(*(i for i in range(2000, 3201) if i % 7 == 0 and i % 5 != 0), sep=\",\")"
   ]
  },
  {
   "cell_type": "code",
   "execution_count": null,
   "metadata": {},
   "outputs": [],
   "source": [
    "print({i for i in range(2000, 3201) if i % 7 == 0 and i % 5 != 0})"
   ]
  },
  {
   "cell_type": "code",
   "execution_count": null,
   "metadata": {},
   "outputs": [],
   "source": [
    "print([i for i in range(2000, 3201) if i % 7 == 0 and i % 5 != 0])"
   ]
  },
  {
   "cell_type": "code",
   "execution_count": null,
   "metadata": {},
   "outputs": [],
   "source": [
    "liste=[]\n",
    "for i in range(2000, 3201):\n",
    "    if i % 7 == 0 and i % 5 != 0:\n",
    "       liste.append(i)\n",
    "print(liste)"
   ]
  },
  {
   "cell_type": "code",
   "execution_count": null,
   "metadata": {},
   "outputs": [],
   "source": [
    "num = 2000\n",
    "result = []\n",
    "\n",
    "while num <= 3200:\n",
    "    if num % 7 == 0 and num % 5 != 0:\n",
    "        result.append(num)\n",
    "    num += 1\n",
    "\n",
    "print(result)"
   ]
  },
  {
   "cell_type": "code",
   "execution_count": null,
   "metadata": {},
   "outputs": [],
   "source": [
    "sart = lambda x: x % 7 == 0 and x % 5 != 0\n",
    "result = [num for num in range(2000, 3201) if sart(num)]\n",
    "\n",
    "print(result)"
   ]
  },
  {
   "attachments": {},
   "cell_type": "markdown",
   "metadata": {},
   "source": [
    "# Question 2\n",
    "\n",
    "### **Question:**\n",
    "\n",
    "> **_Write a program which can compute the factorial of a given numbers.The results should be printed in a comma-separated sequence on a single line.Suppose the following input is supplied to the program: 8\n",
    "> Then, the output should be:40320_**\n",
    "\n",
    "---\n",
    "**_Belirli bir sayının faktöriyelini hesaplayan bir program yazınız.Sonuçlar tek bir satırda virgülle ayrılmış bir sırayla yazdırılmalıdır.Programa aşağıdaki girdinin verildiğini varsayalım: 8\n",
    "> Ardından, çıktı şöyle olmalıdır:40320_**\n",
    "\n",
    "### Hints:\n",
    "\n",
    "> **_In case of input data being supplied to the question, it should be assumed to be a console input._**\n",
    "\n",
    "---\n",
    "\n",
    "\n",
    "\n",
    "**Solutions:**\n"
   ]
  },
  {
   "cell_type": "code",
   "execution_count": 15,
   "metadata": {},
   "outputs": [
    {
     "name": "stdout",
     "output_type": "stream",
     "text": [
      "24\n"
     ]
    }
   ],
   "source": [
    "n= int(input(\"Bir sayi gir:\"))\n",
    "\n",
    "fact=1\n",
    "for i in range(1,n+1):\n",
    "    fact *=i #(fact= fact * i)\n",
    "print(fact)"
   ]
  },
  {
   "cell_type": "code",
   "execution_count": null,
   "metadata": {},
   "outputs": [],
   "source": [
    "n= int(input(\"Bir sayi gir:\"))\n",
    "fact=1\n",
    "i=1\n",
    "while i <=n:\n",
    "    fact *=i\n",
    "    i += 1\n",
    "print(fact)"
   ]
  },
  {
   "cell_type": "code",
   "execution_count": null,
   "metadata": {},
   "outputs": [],
   "source": [
    "n= int(input(\"Bir sayi gir:\"))\n",
    "factorial= lambda n: 1 if n<=1 else n * factorial(n-1)\n",
    "result=factorial(n)\n",
    "print(result)\n"
   ]
  },
  {
   "cell_type": "markdown",
   "metadata": {},
   "source": [
    "- **Using While Loop**"
   ]
  },
  {
   "cell_type": "code",
   "execution_count": null,
   "metadata": {},
   "outputs": [],
   "source": [
    "n = int(input())  # input() function takes input as string type\n",
    "# int() converts it to integer type\n",
    "fact = 1\n",
    "i = 1\n",
    "while i <= n:\n",
    "    fact = fact * i\n",
    "    i = i + 1\n",
    "print(fact)"
   ]
  },
  {
   "cell_type": "markdown",
   "metadata": {},
   "source": [
    "- **Using For Loop**"
   ]
  },
  {
   "cell_type": "code",
   "execution_count": null,
   "metadata": {},
   "outputs": [],
   "source": [
    "n = int(input())  # input() function takes input as string type\n",
    "# int() converts it to integer type\n",
    "fact = 1\n",
    "for i in range(1, n + 1):\n",
    "    fact = fact * i\n",
    "print(fact)"
   ]
  },
  {
   "cell_type": "markdown",
   "metadata": {},
   "source": [
    "- **Using Lambda Function**"
   ]
  },
  {
   "cell_type": "code",
   "execution_count": 24,
   "metadata": {},
   "outputs": [
    {
     "name": "stdout",
     "output_type": "stream",
     "text": [
      "1, 2, 6, 24\n"
     ]
    }
   ],
   "source": [
    "factorial = lambda n: 1 if n<=1 else n*factorial(n-1)\n",
    "\n",
    "n = int(input(\"Bir sayi gir: \"))\n",
    "result = factorial(n)\n",
    "print(result)"
   ]
  },
  {
   "cell_type": "code",
   "execution_count": 25,
   "metadata": {},
   "outputs": [
    {
     "name": "stdout",
     "output_type": "stream",
     "text": [
      "24\n"
     ]
    }
   ],
   "source": [
    "# Solution by:  harshraj22\n",
    "n = int(input(\"bir sayi gir:\"))\n",
    "\n",
    "\n",
    "def faktorial(x):\n",
    "    return 1 if x <= 1 else x * faktorial(x - 1)\n",
    "\n",
    "\n",
    "print(faktorial(n))"
   ]
  },
  {
   "attachments": {},
   "cell_type": "markdown",
   "metadata": {},
   "source": [
    "# Question 3\n",
    "\n",
    "### **Question:**\n",
    "\n",
    "> **_With a given integral number n, write a program to generate a dictionary that contains (i, i x i) such that is an integral number between 1 and n (both included). and then the program should print the dictionary.Suppose the following input is supplied to the program: 8_**\n",
    "# integral number --> tamsayi anlaminda\n",
    "> **_Then, the output should be:_**\n",
    "\n",
    "\n",
    "{1: 1, 2: 4, 3: 9, 4: 16, 5: 25, 6: 36, 7: 49, 8: 64}\n",
    "\n",
    "\n",
    "---\n",
    "\n",
    "### Hints:\n",
    "\n",
    "> **_In case of input data being supplied to the question, it should be assumed to be a console input.Consider use dict()_**\n",
    "\n"
   ]
  },
  {
   "cell_type": "markdown",
   "metadata": {},
   "source": [
    "**Solutions:**"
   ]
  },
  {
   "cell_type": "markdown",
   "metadata": {},
   "source": [
    "- **Using For loop**"
   ]
  },
  {
   "cell_type": "code",
   "execution_count": 18,
   "metadata": {},
   "outputs": [
    {
     "name": "stdout",
     "output_type": "stream",
     "text": [
      "{1: 1, 2: 4, 3: 9, 4: 16, 5: 25, 6: 36}\n"
     ]
    }
   ],
   "source": [
    "n = int(input(\"bir sayi:\")) # bos bir dict atamaya gerek kalmadan, result[i]=i**2\n",
    "                             #yazarak, dogrudan result[i] key’i icin, value=i**2 value’sunu atamış olduk,\n",
    "result={}\n",
    "for i in range(1, n+1):\n",
    "    result[i]=i **2\n",
    "print(result)"
   ]
  },
  {
   "cell_type": "code",
   "execution_count": 19,
   "metadata": {},
   "outputs": [
    {
     "name": "stdout",
     "output_type": "stream",
     "text": [
      "{'Name': ['Guru'], 'Address': ['Mumbai'], 'Age': [30]}\n"
     ]
    }
   ],
   "source": [
    "my_dict = {\"Name\":[],\"Address\":[],\"Age\":[]};\n",
    "\n",
    "my_dict[\"Name\"].append(\"Guru\")\n",
    "my_dict[\"Address\"].append(\"Mumbai\")\n",
    "my_dict[\"Age\"].append(30)\t\n",
    "print(my_dict)"
   ]
  },
  {
   "cell_type": "code",
   "execution_count": null,
   "metadata": {},
   "outputs": [],
   "source": [
    "n = int(input(\"bir sayi:\"))\n",
    "ans={i: i**2 for i in range(1,n+1)}\n",
    "\n",
    "print(ans)"
   ]
  },
  {
   "cell_type": "code",
   "execution_count": 29,
   "metadata": {},
   "outputs": [
    {
     "name": "stdout",
     "output_type": "stream",
     "text": [
      "{1: 1, 2: 4, 3: 9, 4: 16, 5: 25}\n"
     ]
    }
   ],
   "source": [
    "n = int(input())\n",
    "ans = {}\n",
    "for i in range(1, n + 1):\n",
    "    ans [i] = i * i\n",
    "print(ans)"
   ]
  },
  {
   "cell_type": "markdown",
   "metadata": {},
   "source": [
    "- **Using dictionary comprehension**"
   ]
  },
  {
   "cell_type": "code",
   "execution_count": 27,
   "metadata": {},
   "outputs": [
    {
     "name": "stdout",
     "output_type": "stream",
     "text": [
      "{1: 1, 2: 4, 3: 9, 4: 16, 5: 25}\n"
     ]
    }
   ],
   "source": [
    "n = int(input())\n",
    "ans = {i: i * i for i in range(1, n + 1)}\n",
    "print(ans)"
   ]
  },
  {
   "cell_type": "code",
   "execution_count": 2,
   "metadata": {},
   "outputs": [
    {
     "ename": "TypeError",
     "evalue": "__main__.sozluk() argument after ** must be a mapping, not function",
     "output_type": "error",
     "traceback": [
      "\u001b[1;31m---------------------------------------------------------------------------\u001b[0m",
      "\u001b[1;31mTypeError\u001b[0m                                 Traceback (most recent call last)",
      "Cell \u001b[1;32mIn[2], line 11\u001b[0m\n\u001b[0;32m      8\u001b[0m     \u001b[39mfor\u001b[39;00m i \u001b[39min\u001b[39;00m kwargs:\n\u001b[0;32m      9\u001b[0m         \u001b[39mprint\u001b[39m(i)\n\u001b[1;32m---> 11\u001b[0m sozluk(\u001b[39m\"\u001b[39m\u001b[39mkitap\u001b[39m\u001b[39m\"\u001b[39m, \u001b[39m*\u001b[39m\u001b[39m*\u001b[39msozluk)\n",
      "\u001b[1;31mTypeError\u001b[0m: __main__.sozluk() argument after ** must be a mapping, not function"
     ]
    }
   ],
   "source": [
    "# kullanicin girdiği kelimenin karsılıgını bulan bir sozluk programi yazalim\n",
    "sozluk = {\"kitap\" : \"book\",\n",
    "\"bilgisayar\" : \"computer\",\n",
    "\"programlama\": \"programming\"}\n",
    "#karşilik_bul(\"kitap\", \"bilgisayar\", \"programlama\", \"fonksiyon\", **sözlük)\n",
    "\n",
    "def sozluk(* args, **kwargs):\n",
    "    for i in kwargs:\n",
    "        if i == args:\n",
    "           return i.values()\n",
    "\n",
    "sozluk(\"kitap\", **sozluk)\n"
   ]
  },
  {
   "cell_type": "code",
   "execution_count": 3,
   "metadata": {},
   "outputs": [
    {
     "name": "stdout",
     "output_type": "stream",
     "text": [
      "kitap  kelimesinin karşılığı:  book\n"
     ]
    }
   ],
   "source": [
    "sozluk = {\"kitap\" : \"book\",\n",
    "          \"bilgisayar\" : \"computer\",\n",
    "          \"programlama\": \"programming\"}\n",
    "\n",
    "kelime = input(\"Bir kelime girin: \")\n",
    "if kelime in sozluk:\n",
    "    print(kelime, \" kelimesinin karşılığı: \", sozluk[kelime])\n",
    "else:\n",
    "    print(\"Aradığınız kelime sözlükte bulunamadı.\")"
   ]
  },
  {
   "cell_type": "code",
   "execution_count": null,
   "metadata": {},
   "outputs": [],
   "source": [
    "sozluk = {\"kitap\" : \"book\",\n",
    "          \"bilgisayar\" : \"computer\",\n",
    "          \"programlama\": \"programming\"}\n",
    "\n",
    "kelime = input(\"Bir kelime girin: \")\n",
    "if kelime in sozluk:\n",
    "    print(kelime, \" kelimesinin karşılığı: \", sozluk[kelime])\n",
    "else:\n",
    "    print(\"Aradığınız kelime sözlükte bulunamadı.\")"
   ]
  }
 ],
 "metadata": {
  "kernelspec": {
   "display_name": "Python 3",
   "language": "python",
   "name": "python3"
  },
  "language_info": {
   "codemirror_mode": {
    "name": "ipython",
    "version": 3
   },
   "file_extension": ".py",
   "mimetype": "text/x-python",
   "name": "python",
   "nbconvert_exporter": "python",
   "pygments_lexer": "ipython3",
   "version": "3.11.1"
  }
 },
 "nbformat": 4,
 "nbformat_minor": 4
}
