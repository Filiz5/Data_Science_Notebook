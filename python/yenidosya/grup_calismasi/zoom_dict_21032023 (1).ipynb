{
 "cells": [
  {
   "cell_type": "code",
   "execution_count": 12,
   "metadata": {},
   "outputs": [],
   "source": [
    "#       1 ------>   süslü parantez ile oluşturulur.\n",
    "info = {\"name\" : \"Hasan\",  \n",
    "        \"surname\" : \"Yüzler\",\n",
    "        \"class\" : \"8-B\"}"
   ]
  },
  {
   "cell_type": "code",
   "execution_count": 15,
   "metadata": {},
   "outputs": [
    {
     "data": {
      "text/plain": [
       "{'Adi': 'Hasan',\n",
       " 'Soyadi': 'Yüzler',\n",
       " 'Sinifi': '8-B',\n",
       " 'Dersler': ['Matematik', 'İngilizce', 'Tarih'],\n",
       " 'Notlar': (70, 80, 90),\n",
       " 'Sayilar': {1, 2, 3},\n",
       " 'Sayilar_listesi': [2, 3, 4, 56],\n",
       " (1, 2, 3): (10, 20, 30),\n",
       " 123: 'asd'}"
      ]
     },
     "execution_count": 15,
     "metadata": {},
     "output_type": "execute_result"
    }
   ],
   "source": [
    "#       2 ------>  VALUElar hangi değerleri alabilirler?  her degeri alirlar\n",
    "#         ------> KEYler hangi değerleri alabilirler ? string, int , tuple -- > immutable\n",
    "info = {\"Adi\" : \"Hasan\",  \n",
    "        \"Soyadi\" : \"Yüzler\",\n",
    "        \"Sinifi\" : \"8-B\",\n",
    "        \"Dersler\" : [\"Matematik\", \"İngilizce\",\"Tarih\"],\n",
    "        \"Notlar\" : (70, 80, 90),\n",
    "        \"Sayilar\" : {1,2,3},\n",
    "        \"Sayilar_listesi\" : [2,3,4,56],\n",
    "        # {1,2,3} : (1,2,3),\n",
    "        (1,2,3) : (10,20,30),\n",
    "        123 : \"asd\"}\n",
    "\n",
    "info"
   ]
  },
  {
   "cell_type": "code",
   "execution_count": 16,
   "metadata": {},
   "outputs": [
    {
     "data": {
      "text/plain": [
       "'Hasan'"
      ]
     },
     "execution_count": 16,
     "metadata": {},
     "output_type": "execute_result"
    }
   ],
   "source": [
    "#          3 ------>  ÇAĞIRMA YONTEMİ --> index ile eleman çağıramayiz-->[]. index yerine KEY kullaniriz. Value döner\n",
    "info[\"Adi\"]\n"
   ]
  },
  {
   "cell_type": "code",
   "execution_count": 24,
   "metadata": {},
   "outputs": [
    {
     "data": {
      "text/plain": [
       "{'Adi': 'Hasan',\n",
       " 'Soyadi': 'Yüzler',\n",
       " 'Sinifi': '8-B',\n",
       " 'Dersler': ['Matematik', 'İngilizce', 'Tarih'],\n",
       " 'Notlar': (70, 100, 90, 100),\n",
       " 'Sayilar': {1, 2, 3},\n",
       " 123: 'asd'}"
      ]
     },
     "execution_count": 24,
     "metadata": {},
     "output_type": "execute_result"
    }
   ],
   "source": [
    "#         4 ------>  elemanlari nasil değiştirebiliriz güncelleyebilirz.\n",
    "info = {\"Adi\" : \"Hasan\",  \n",
    "        \"Soyadi\" : \"Yüzler\",\n",
    "        \"Sinifi\" : \"8-B\",\n",
    "        \"Dersler\" : [\"Matematik\", \"İngilizce\",\"Tarih\"],\n",
    "        \"Notlar\" : (70, 80, 90),\n",
    "        \"Sayilar\" : {1,2,3},\n",
    "        123 : \"asd\"}\n",
    "\n",
    "info[\"Notlar\"] = (70, 100, 90, 100) \n",
    "#  info[\"Notlar\"][3]\n",
    "info    \n"
   ]
  },
  {
   "cell_type": "code",
   "execution_count": 25,
   "metadata": {},
   "outputs": [
    {
     "data": {
      "text/plain": [
       "{'Adi': 'HASAN',\n",
       " 'Soyadi': 'YUZLER',\n",
       " 'Sinifi': '8-B',\n",
       " 'Dersler': ['Matematik', 'İngilizce', 'Tarih'],\n",
       " 'Notlar': (70, 100, 90, 100),\n",
       " 'Sayilar': {1, 2, 3},\n",
       " 123: 'asd'}"
      ]
     },
     "execution_count": 25,
     "metadata": {},
     "output_type": "execute_result"
    }
   ],
   "source": [
    "#        5 -------> Aynı anda iki veya fazla alani güncellemek isteseydim.\n",
    "info.update({\"Adi\" : \"HASAN\",\n",
    "            \"Soyadi\" :\"YUZLER\"})    \n",
    "info"
   ]
  },
  {
   "cell_type": "code",
   "execution_count": 30,
   "metadata": {},
   "outputs": [
    {
     "ename": "SyntaxError",
     "evalue": "cannot assign to literal (2144943607.py, line 2)",
     "output_type": "error",
     "traceback": [
      "\u001b[1;36m  Cell \u001b[1;32mIn[30], line 2\u001b[1;36m\u001b[0m\n\u001b[1;33m    info[\"Adi\"],[\"Soyadi\"] =\"Hasan\",\"Yüzler\"\u001b[0m\n\u001b[1;37m                 ^\u001b[0m\n\u001b[1;31mSyntaxError\u001b[0m\u001b[1;31m:\u001b[0m cannot assign to literal\n"
     ]
    }
   ],
   "source": [
    "#  indexleyerek birden çok elemani güncelleme\n",
    "info[\"Adi\"],info[\"Soyadi\"] =\"Hasan\",\"Yüzler\"\n",
    "info"
   ]
  },
  {
   "cell_type": "code",
   "execution_count": 38,
   "metadata": {},
   "outputs": [
    {
     "data": {
      "text/plain": [
       "{'Adi': 'Hasan',\n",
       " 'Soyadi': 'Yüzler',\n",
       " 'Sinifi': '8-B',\n",
       " 'Dersler': ['Matematik', 'İngilizce', 'Tarih'],\n",
       " 'Notlar': (70, 80, 90),\n",
       " 123: 'asd'}"
      ]
     },
     "execution_count": 38,
     "metadata": {},
     "output_type": "execute_result"
    }
   ],
   "source": [
    "#     6 ------>  bir alanı nasil silebiliriz.\n",
    "info = {\"Adi\" : \"Hasan\",  \n",
    "        \"Soyadi\" : \"Yüzler\",                                            # pop(), clear(),del        \n",
    "        \"Sinifi\" : \"8-B\",                                               # clear() dictin içini temizler\n",
    "        \"Dersler\" : [\"Matematik\", \"İngilizce\",\"Tarih\"],\n",
    "        \"Notlar\" : (70, 80, 90),\n",
    "        \"Sayilar\" : {1,2,3},\n",
    "        123 : \"asd\"}\n",
    "\n",
    "info.pop(\"Sayilar\")\n",
    "info"
   ]
  },
  {
   "cell_type": "code",
   "execution_count": 33,
   "metadata": {},
   "outputs": [
    {
     "data": {
      "text/plain": [
       "{'Adi': 'Hasan',\n",
       " 'Soyadi': 'Yüzler',\n",
       " 'Sinifi': '8-B',\n",
       " 'Dersler': ['Matematik', 'İngilizce', 'Tarih'],\n",
       " 'Notlar': (70, 80, 90)}"
      ]
     },
     "execution_count": 33,
     "metadata": {},
     "output_type": "execute_result"
    }
   ],
   "source": [
    "del info[123]\n",
    "info"
   ]
  },
  {
   "cell_type": "code",
   "execution_count": 35,
   "metadata": {},
   "outputs": [
    {
     "data": {
      "text/plain": [
       "{}"
      ]
     },
     "execution_count": 35,
     "metadata": {},
     "output_type": "execute_result"
    }
   ],
   "source": [
    "info.clear()\n",
    "info"
   ]
  },
  {
   "cell_type": "code",
   "execution_count": 41,
   "metadata": {},
   "outputs": [
    {
     "ename": "NameError",
     "evalue": "name 'info' is not defined",
     "output_type": "error",
     "traceback": [
      "\u001b[1;31m---------------------------------------------------------------------------\u001b[0m",
      "\u001b[1;31mNameError\u001b[0m                                 Traceback (most recent call last)",
      "Cell \u001b[1;32mIn[41], line 10\u001b[0m\n\u001b[0;32m      1\u001b[0m info \u001b[39m=\u001b[39m {\u001b[39m\"\u001b[39m\u001b[39mAdi\u001b[39m\u001b[39m\"\u001b[39m : \u001b[39m\"\u001b[39m\u001b[39mHasan\u001b[39m\u001b[39m\"\u001b[39m,  \n\u001b[0;32m      2\u001b[0m         \u001b[39m\"\u001b[39m\u001b[39mSoyadi\u001b[39m\u001b[39m\"\u001b[39m : \u001b[39m\"\u001b[39m\u001b[39mYüzler\u001b[39m\u001b[39m\"\u001b[39m,                                            \u001b[39m# pop(), clear(),del        \u001b[39;00m\n\u001b[0;32m      3\u001b[0m         \u001b[39m\"\u001b[39m\u001b[39mSinifi\u001b[39m\u001b[39m\"\u001b[39m : \u001b[39m\"\u001b[39m\u001b[39m8-B\u001b[39m\u001b[39m\"\u001b[39m,                                               \u001b[39m# clear() dictin içini temizler\u001b[39;00m\n\u001b[1;32m   (...)\u001b[0m\n\u001b[0;32m      6\u001b[0m         \u001b[39m\"\u001b[39m\u001b[39mSayilar\u001b[39m\u001b[39m\"\u001b[39m : {\u001b[39m1\u001b[39m,\u001b[39m2\u001b[39m,\u001b[39m3\u001b[39m},\n\u001b[0;32m      7\u001b[0m         \u001b[39m123\u001b[39m : \u001b[39m\"\u001b[39m\u001b[39masd\u001b[39m\u001b[39m\"\u001b[39m}\n\u001b[0;32m      9\u001b[0m \u001b[39mdel\u001b[39;00m info \n\u001b[1;32m---> 10\u001b[0m info\n",
      "\u001b[1;31mNameError\u001b[0m: name 'info' is not defined"
     ]
    }
   ],
   "source": [
    "info = {\"Adi\" : \"Hasan\",  \n",
    "        \"Soyadi\" : \"Yüzler\",                                            # pop(), clear(),del        \n",
    "        \"Sinifi\" : \"8-B\",                                               # clear() dictin içini temizler\n",
    "        \"Dersler\" : [\"Matematik\", \"İngilizce\",\"Tarih\"],\n",
    "        \"Notlar\" : (70, 80, 90),\n",
    "        \"Sayilar\" : {1,2,3},\n",
    "        123 : \"asd\"}\n",
    "\n",
    "del info \n",
    "info"
   ]
  },
  {
   "cell_type": "code",
   "execution_count": 44,
   "metadata": {},
   "outputs": [
    {
     "data": {
      "text/plain": [
       "{'Adi': 'Hasan',\n",
       " 'Soyadi': 'Yüzler',\n",
       " 'Sinifi': '8-B',\n",
       " 'Dersler': ['Matematik', 'İngilizce', 'Tarih'],\n",
       " 'Notlar': (70, 80, 90),\n",
       " 'Sayilar': {1, 2, 3},\n",
       " 123: 'asd',\n",
       " 'alakasiz': 'neBileyim'}"
      ]
     },
     "execution_count": 44,
     "metadata": {},
     "output_type": "execute_result"
    }
   ],
   "source": [
    "#       7 ------>  yeni bir alan(key) olusturup değer ekleyelim\n",
    "info = {\"Adi\" : \"Hasan\",  \n",
    "        \"Soyadi\" : \"Yüzler\",                                                 \n",
    "        \"Sinifi\" : \"8-B\",                                               \n",
    "        \"Dersler\" : [\"Matematik\", \"İngilizce\",\"Tarih\"],\n",
    "        \"Notlar\" : (70, 80, 90),\n",
    "        \"Sayilar\" : {1,2,3},\n",
    "        123 : \"asd\"}\n",
    "\n",
    "info[\"alakasiz\"] = \"neBileyim\"\n",
    "\n",
    "info"
   ]
  },
  {
   "cell_type": "code",
   "execution_count": 45,
   "metadata": {},
   "outputs": [
    {
     "name": "stdout",
     "output_type": "stream",
     "text": [
      "Adi\n",
      "Soyadi\n",
      "Sinifi\n",
      "Dersler\n",
      "Notlar\n",
      "Sayilar\n",
      "123\n"
     ]
    }
   ],
   "source": [
    "#       8 -------> sözlüğü for ile nasil yazdiririz\n",
    "\n",
    "\n",
    "info = {\"Adi\" : \"Hasan\",  \n",
    "        \"Soyadi\" : \"Yüzler\",\n",
    "        \"Sinifi\" : \"8-B\",\n",
    "        \"Dersler\" : [\"Matematik\", \"İngilizce\",\"Tarih\"],\n",
    "        \"Notlar\" : (70, 80, 90),\n",
    "        \"Sayilar\" : {1,2,3},\n",
    "        123 : \"asd\"}\n",
    "\n",
    "for i in info :             # --->  sadece dict adi yazdigimizda sadece tek veri donuyor. oda KEY\n",
    "    print(i)"
   ]
  },
  {
   "cell_type": "code",
   "execution_count": 46,
   "metadata": {},
   "outputs": [
    {
     "name": "stdout",
     "output_type": "stream",
     "text": [
      "Hasan\n",
      "Yüzler\n",
      "8-B\n",
      "['Matematik', 'İngilizce', 'Tarih']\n",
      "(70, 80, 90)\n",
      "{1, 2, 3}\n",
      "asd\n"
     ]
    }
   ],
   "source": [
    "# daha farkli yöntemlerle degerleri nasil yazdiririz.\n",
    "for i in info.values() :\n",
    "    print(i)           "
   ]
  },
  {
   "cell_type": "code",
   "execution_count": null,
   "metadata": {},
   "outputs": [],
   "source": [
    "\n",
    "info = {\"Adi\" : \"Hasan\",  \n",
    "        \"Soyadi\" : \"Yüzler\",\n",
    "        \"Sinifi\" : \"8-B\",\n",
    "        \"Dersler\" : [\"Matematik\", \"İngilizce\",\"Tarih\"],\n",
    "        \"Notlar\" : (70, 80, 90),\n",
    "        \"Sayilar\" : {1,2,3},\n",
    "        123 : \"asd\"}\n",
    "\n",
    "\n",
    "\n",
    "for i in info :  # --> Adi : hasan\n",
    "    print(info[i]) "
   ]
  },
  {
   "cell_type": "code",
   "execution_count": null,
   "metadata": {},
   "outputs": [],
   "source": [
    "for i in info.values() :  # --> Hasan,yuzler,8-b ... bu for loopta value'ler icinde döner\n",
    "    print(info[i])"
   ]
  },
  {
   "cell_type": "code",
   "execution_count": null,
   "metadata": {},
   "outputs": [],
   "source": [
    "for i in info :\n",
    "    print(info.get(i))   #Hasan"
   ]
  },
  {
   "cell_type": "code",
   "execution_count": 52,
   "metadata": {},
   "outputs": [
    {
     "data": {
      "text/plain": [
       "'bulunamadi'"
      ]
     },
     "execution_count": 52,
     "metadata": {},
     "output_type": "execute_result"
    }
   ],
   "source": [
    "# dict_adi.get(\"key\",\"bulunamadiğinda dönen uyari metni\")\n",
    "info = {\"Adi\" : \"Hasan\",  \n",
    "        \"Soyadi\" : \"Yüzler\",\n",
    "        \"Sinifi\" : \"8-B\",\n",
    "        \"Dersler\" : [\"Matematik\", \"İngilizce\",\"Tarih\"],\n",
    "        \"Notlar\" : (70, 80, 90),\n",
    "        \"Sayilar\" : {1,2,3},\n",
    "        123 : \"asd\"}\n",
    "\n",
    "# get() --> bize aranan key'i bulamadiğinda yazilan msjini verir. bu sayede program calismaya devam eder. hata # ile karsilasmayiz\n",
    "\n",
    "# info.get(\"Notlar\",\"Aradiginiz değer bulunamadi\" )\n",
    "info.get(\"Hasan\",\"bulunamadi\")\n"
   ]
  },
  {
   "cell_type": "code",
   "execution_count": 56,
   "metadata": {},
   "outputs": [
    {
     "name": "stdout",
     "output_type": "stream",
     "text": [
      "Adi Hasan\n",
      "Soyadi Yüzler\n",
      "Sinifi 8-B\n",
      "Dersler ['Matematik', 'İngilizce', 'Tarih']\n",
      "Notlar (70, 80, 90)\n",
      "Sayilar {1, 2, 3}\n",
      "123 asd\n"
     ]
    }
   ],
   "source": [
    "for x, y in info.items() :  # ---> info.items() --> bize 2 veri doner. KEY : VALUE\n",
    "        print(x,y)          # bunu print(info.items()) ile yazirsak bize tuple tuple olarak donuyor.\n",
    "        \n",
    "\n",
    "\n"
   ]
  },
  {
   "cell_type": "code",
   "execution_count": 54,
   "metadata": {},
   "outputs": [
    {
     "name": "stdout",
     "output_type": "stream",
     "text": [
      "dict_items([('Adi', 'Hasan'), ('Soyadi', 'Yüzler'), ('Sinifi', '8-B'), ('Dersler', ['Matematik', 'İngilizce', 'Tarih']), ('Notlar', (70, 80, 90)), ('Sayilar', {1, 2, 3}), (123, 'asd')])\n"
     ]
    }
   ],
   "source": [
    "print(info.items())"
   ]
  },
  {
   "cell_type": "code",
   "execution_count": null,
   "metadata": {},
   "outputs": [],
   "source": [
    "#       9 -------> olmayan bir alani, keyi aratsak ne olur?\n",
    "info = {\"Adi\" : \"Hasan\",  \n",
    "        \"Soyadi\" : \"Yüzler\",\n",
    "        \"Sinifi\" : \"8-B\",\n",
    "        \"Dersler\" : [\"Matematik\", \"İngilizce\",\"Tarih\"],\n",
    "        \"Notlar\" : (70, 80, 90),\n",
    "        \"Sayilar\" : {1,2,3},\n",
    "        123 : \"asd\"}\n",
    "\n",
    "info[\"okul\"]        # HATA                "
   ]
  },
  {
   "cell_type": "code",
   "execution_count": 58,
   "metadata": {},
   "outputs": [
    {
     "data": {
      "text/plain": [
       "'aradiğiniz key yoktur.'"
      ]
     },
     "execution_count": 58,
     "metadata": {},
     "output_type": "execute_result"
    }
   ],
   "source": [
    "info.get(\"okul\",\"aradiğiniz key yoktur.\")"
   ]
  },
  {
   "cell_type": "code",
   "execution_count": 59,
   "metadata": {},
   "outputs": [
    {
     "data": {
      "text/plain": [
       "'asd'"
      ]
     },
     "execution_count": 59,
     "metadata": {},
     "output_type": "execute_result"
    }
   ],
   "source": [
    "info.get(123)"
   ]
  },
  {
   "attachments": {},
   "cell_type": "markdown",
   "metadata": {},
   "source": [
    "# EXERCISES"
   ]
  },
  {
   "cell_type": "code",
   "execution_count": 63,
   "metadata": {},
   "outputs": [
    {
     "data": {
      "text/plain": [
       "{'Ten': 10, 'Twenty': 20, 'Thirty': 30}"
      ]
     },
     "execution_count": 63,
     "metadata": {},
     "output_type": "execute_result"
    }
   ],
   "source": [
    "# 2 listi bir dicte cevirelim\n",
    "keys = ['Ten', 'Twenty', 'Thirty']          #zip ve enumarate(numaralandirma, siralama)\n",
    "values = [10, 20, 30]\n",
    "\n",
    "dict(zip(keys,values))"
   ]
  },
  {
   "cell_type": "code",
   "execution_count": 68,
   "metadata": {},
   "outputs": [
    {
     "data": {
      "text/plain": [
       "{('Ten', 10), ('Thirty', 30), ('Twenty', 20)}"
      ]
     },
     "execution_count": 68,
     "metadata": {},
     "output_type": "execute_result"
    }
   ],
   "source": [
    "set(zip(keys,values))"
   ]
  },
  {
   "cell_type": "code",
   "execution_count": 76,
   "metadata": {},
   "outputs": [
    {
     "data": {
      "text/plain": [
       "{'on': 10, 'yirmi': 20, 'otuz': 30, 'Thirty': 30, 'Fourty': 40, 'Fifty': 50}"
      ]
     },
     "execution_count": 76,
     "metadata": {},
     "output_type": "execute_result"
    }
   ],
   "source": [
    "# 2 dicti bileştirip yeni 1 dict elde edelim.\n",
    "dict_tr = {'on': 10, 'yirmi': 20, 'otuz': 30}\n",
    "dict_en = {'Thirty': 30, 'Fourty': 40, 'Fifty': 50}\n",
    "\n",
    "dict(**dict_tr,**dict_en)"
   ]
  },
  {
   "cell_type": "code",
   "execution_count": null,
   "metadata": {},
   "outputs": [],
   "source": [
    "dict_birlesim = dict_tr + dict_en    # HATA"
   ]
  },
  {
   "cell_type": "code",
   "execution_count": 11,
   "metadata": {},
   "outputs": [],
   "source": [
    "# 2 dicti bileştirip 1 dict elde edelim. # yeni bir dict tanımlasak icine bu dictleri koysak\n",
    "dict_birlesim = dict(**dict_tr,**dict_en)"
   ]
  },
  {
   "cell_type": "code",
   "execution_count": 84,
   "metadata": {},
   "outputs": [
    {
     "name": "stdout",
     "output_type": "stream",
     "text": [
      "None\n"
     ]
    }
   ],
   "source": [
    "# 2 dicti bileştirip yeni 1 dict elde edelim.   --> DİCT METHODLARINDAN FAYDALANSAK\n",
    "dict_tr = {'on': 10, 'yirmi': 20, 'otuz': 30}\n",
    "dict_en = {'Thirty': 30, 'Fourty': 40, 'Fifty': 50}\n",
    "\n",
    "dict_c = dict_tr.update(dict_en)  #olmadi dict_tr değişti\n",
    "print(dict_c)"
   ]
  },
  {
   "cell_type": "code",
   "execution_count": 83,
   "metadata": {},
   "outputs": [
    {
     "data": {
      "text/plain": [
       "{'on': 10, 'yirmi': 20, 'otuz': 30, 'Thirty': 30, 'Fourty': 40, 'Fifty': 50}"
      ]
     },
     "execution_count": 83,
     "metadata": {},
     "output_type": "execute_result"
    }
   ],
   "source": [
    "# 2 dicti bileştirip yeni 1 dict elde edelim.   --> DİCT METHODLARINDAN FAYDALANSAK\n",
    "dict_tr = {'on': 10, 'yirmi': 20, 'otuz': 30}\n",
    "dict_en = {'Thirty': 30, 'Fourty': 40, 'Fifty': 50}\n",
    "\n",
    "dict_c = dict_tr.copy() # dict_tr'nin bir kopyasini dict_c ye atamıs olduk\n",
    "dict_c.update(dict_en)\n",
    "dict_c                          # yeni bir dict\n"
   ]
  },
  {
   "cell_type": "code",
   "execution_count": 89,
   "metadata": {},
   "outputs": [
    {
     "data": {
      "text/plain": [
       "{'otuz': 30, 'on': 10, 'Fifty': 50, 'Fourty': 40, 'Thirty': 30, 'yirmi': 20}"
      ]
     },
     "execution_count": 89,
     "metadata": {},
     "output_type": "execute_result"
    }
   ],
   "source": [
    "#  2 dicti bileştirip yeni 1 dict elde edelim. --> SET kullanarak\n",
    "set_c = set(dict_tr.items()).union(set(dict_en.items()))\n",
    "dict(set_c)"
   ]
  },
  {
   "cell_type": "code",
   "execution_count": 90,
   "metadata": {},
   "outputs": [
    {
     "name": "stdout",
     "output_type": "stream",
     "text": [
      "80\n"
     ]
    }
   ],
   "source": [
    "# matematik dersinin notunu yazdiralim\n",
    "notlar = {\"sinif\": { \"ogr\": { \"isim\": \"Cengiz\", \"notlar\": {\"fizik\" : 70, \"mat\" : 80  }}}}\n",
    "\n",
    "print(notlar[\"sinif\"][\"ogr\"][\"notlar\"][\"mat\"])\n"
   ]
  },
  {
   "cell_type": "code",
   "execution_count": null,
   "metadata": {},
   "outputs": [],
   "source": [
    "# dictten coklu veri silelim. Sinifi ve Dersler alanlarını siliniz. for\n",
    "\n",
    "info = {\"Adi\" : \"Hasan\",  \n",
    "        \"Soyadi\" : \"Yüzler\",\n",
    "        \"Sinifi\" : \"8-B\",\n",
    "        \"Dersler\" : [\"Matematik\", \"İngilizce\",\"Tarih\"],\n",
    "        \"Notlar\" : (70, 80, 90),\n",
    "        \"Sayilar\" : {1,2,3},\n",
    "        123 : \"asd\"}\n",
    "\n",
    "\n",
    "s_keys=[\"Sinifi\",\"Dersler\"]\n",
    "\n",
    "for i in s_keys :\n",
    "    info.pop(i)  # silinecek elemani\n",
    "\n",
    "info\n",
    "\n",
    "\n",
    "# How to remove multiple keys from Python Dictionary? To remove multiple keys you have to create a list or set with # the keys you wanted to delete from a dictionary and iterate it and use either the del keyword or the pop() function to delete each key from the list"
   ]
  },
  {
   "cell_type": "code",
   "execution_count": 115,
   "metadata": {},
   "outputs": [],
   "source": [
    "# dictten coklu veri silelim. Sinifi ve Dersler alanlarını siliniz. for\n",
    "\n",
    "info = {\"Adi\" : \"Hasan\",  \n",
    "        \"Soyadi\" : \"Yüzler\",\n",
    "        \"Sinifi\" : \"8-B\",\n",
    "        \"Dersler\" : [\"Matematik\", \"İngilizce\",\"Tarih\"],\n",
    "        \"Notlar\" : (70, 80, 90),\n",
    "        \"Sayilar\" : {1,2,3},\n",
    "        123 : \"asd\"}\n",
    "info2= dict(info)\n",
    "\n",
    "for i in info:\n",
    "    if i == \"Sinifi\":\n",
    "        info2.pop(\"Sinifi\")\n",
    "    elif i == \"Dersler\":\n",
    "        info2.pop(\"Dersler\")\n",
    "info = dict(info2)"
   ]
  },
  {
   "cell_type": "code",
   "execution_count": null,
   "metadata": {},
   "outputs": [],
   "source": [
    "# dictten coklu veri silelim. Sinifi ve Dersler alanlarını siliniz. for\n",
    "\n",
    "info = {\"Adi\" : \"Hasan\",  \n",
    "        \"Soyadi\" : \"Yüzler\",\n",
    "        \"Sinifi\" : \"8-B\",\n",
    "        \"Dersler\" : [\"Matematik\", \"İngilizce\",\"Tarih\"],\n",
    "        \"Notlar\" : (70, 80, 90),\n",
    "        \"Sayilar\" : {1,2,3},\n",
    "        123 : \"asd\"}\n",
    "\n",
    "# for loop ile infor icinde gezinerek yapma ?????????????????"
   ]
  },
  {
   "cell_type": "markdown",
   "metadata": {},
   "source": []
  },
  {
   "attachments": {},
   "cell_type": "markdown",
   "metadata": {},
   "source": [
    "How to remove multiple keys from Python Dictionary? To remove multiple keys you have to create a list or set with the keys you wanted to delete from a dictionary and iterate it and use either the del keyword or the pop() function to delete each key from the list"
   ]
  },
  {
   "cell_type": "code",
   "execution_count": 107,
   "metadata": {},
   "outputs": [
    {
     "data": {
      "text/plain": [
       "{'Sinifi': '8-B', 'Dersler': ['Matematik', 'İngilizce', 'Tarih']}"
      ]
     },
     "execution_count": 107,
     "metadata": {},
     "output_type": "execute_result"
    }
   ],
   "source": [
    "# Sinifi ve Dersler alanlarını ayirip yeni bir dicte atayalim ve yazdiralim. \n",
    "\n",
    "info = {\"Adi\" : \"Hasan\",  \n",
    "        \"Soyadi\" : \"Yüzler\",\n",
    "        \"Sinifi\" : \"8-B\",\n",
    "        \"Dersler\" : [\"Matematik\", \"İngilizce\",\"Tarih\"],\n",
    "        \"Notlar\" : (70, 80, 90),\n",
    "        \"Sayilar\" : {1,2,3},\n",
    "        123 : \"asd\"}\n",
    "\n",
    "\n",
    "keys=[\"Sinifi\",\"Dersler\"]\n",
    "new_dict = {i :info[i] for i in keys}\n",
    "new_dict\n"
   ]
  },
  {
   "cell_type": "code",
   "execution_count": null,
   "metadata": {},
   "outputs": [],
   "source": [
    "# Dicte istenen değer varmi kontrol eden bir prg yaziniz\n",
    "info = {\"Adi\" : \"Hasan\",  \n",
    "        \"Soyadi\" : \"Yüzler\",\n",
    "        \"Sinifi\" : \"8-B\",\n",
    "        \"Dersler\" : [\"Matematik\", \"İngilizce\",\"Tarih\"],\n",
    "        \"Notlar\" : (70, 80, 90),\n",
    "        \"Sayilar\" : {1,2,3},\n",
    "        123 : \"asd\"}  \n",
    "\n"
   ]
  },
  {
   "cell_type": "code",
   "execution_count": 112,
   "metadata": {},
   "outputs": [
    {
     "ename": "TypeError",
     "evalue": "'dict_values' object is not callable",
     "output_type": "error",
     "traceback": [
      "\u001b[1;31m---------------------------------------------------------------------------\u001b[0m",
      "\u001b[1;31mTypeError\u001b[0m                                 Traceback (most recent call last)",
      "Cell \u001b[1;32mIn[112], line 8\u001b[0m\n\u001b[0;32m      3\u001b[0m notlar\u001b[39m=\u001b[39m{ \u001b[39m\"\u001b[39m\u001b[39mfizik\u001b[39m\u001b[39m\"\u001b[39m : \u001b[39m70\u001b[39m,\n\u001b[0;32m      4\u001b[0m          \u001b[39m\"\u001b[39m\u001b[39mmatematik\u001b[39m\u001b[39m\"\u001b[39m : \u001b[39m80\u001b[39m,\n\u001b[0;32m      5\u001b[0m          \u001b[39m\"\u001b[39m\u001b[39mtarih\u001b[39m\u001b[39m\"\u001b[39m : \u001b[39m100\u001b[39m }\n\u001b[0;32m      7\u001b[0m \u001b[39m# min(notlar, key = notlar.get) # min icine iteralbe_eleman verdik. ardindan key parametre icine lamda, fonksiyon veya herhangi bir işlem yazabiliyoruz.\u001b[39;00m\n\u001b[1;32m----> 8\u001b[0m \u001b[39mmin\u001b[39;49m(notlar, key \u001b[39m=\u001b[39;49m notlar\u001b[39m.\u001b[39;49mvalues())\n",
      "\u001b[1;31mTypeError\u001b[0m: 'dict_values' object is not callable"
     ]
    }
   ],
   "source": [
    "# Dictten en küçük değere sahip keyi bulunuz\n",
    "\n",
    "notlar={ \"fizik\" : 70,\n",
    "         \"matematik\" : 80,\n",
    "         \"tarih\" : 100 }\n",
    "\n",
    "min(notlar, key = notlar.get) # min icine iteralbe_eleman verdik. ardindan key parametre icine lamda, fonksiyon veya herhangi bir işlem yazabiliyoruz.\n"
   ]
  },
  {
   "cell_type": "code",
   "execution_count": 113,
   "metadata": {},
   "outputs": [
    {
     "data": {
      "text/plain": [
       "'fizik'"
      ]
     },
     "execution_count": 113,
     "metadata": {},
     "output_type": "execute_result"
    }
   ],
   "source": [
    "notlar={ \"fizik\" : 70,\n",
    "         \"matematik\" : 80,\n",
    "         \"tarih\" : 100 }\n",
    "\n",
    "min(notlar, key=lambda k: notlar[k]) \n",
    "\n"
   ]
  },
  {
   "cell_type": "code",
   "execution_count": 111,
   "metadata": {},
   "outputs": [
    {
     "data": {
      "text/plain": [
       "('fizik', 70)"
      ]
     },
     "execution_count": 111,
     "metadata": {},
     "output_type": "execute_result"
    }
   ],
   "source": [
    "min(notlar.items())"
   ]
  }
 ],
 "metadata": {
  "kernelspec": {
   "display_name": "Python 3",
   "language": "python",
   "name": "python3"
  },
  "language_info": {
   "codemirror_mode": {
    "name": "ipython",
    "version": 3
   },
   "file_extension": ".py",
   "mimetype": "text/x-python",
   "name": "python",
   "nbconvert_exporter": "python",
   "pygments_lexer": "ipython3",
   "version": "3.11.2"
  },
  "orig_nbformat": 4
 },
 "nbformat": 4,
 "nbformat_minor": 2
}
