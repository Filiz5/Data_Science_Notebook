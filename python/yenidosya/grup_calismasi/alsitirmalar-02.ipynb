{
 "cells": [
  {
   "cell_type": "code",
   "execution_count": 2,
   "metadata": {},
   "outputs": [
    {
     "ename": "SyntaxError",
     "evalue": "invalid non-printable character U+200B (3490209028.py, line 4)",
     "output_type": "error",
     "traceback": [
      "\u001b[1;36m  Cell \u001b[1;32mIn[2], line 4\u001b[1;36m\u001b[0m\n\u001b[1;33m    ​\u001b[0m\n\u001b[1;37m    ^\u001b[0m\n\u001b[1;31mSyntaxError\u001b[0m\u001b[1;31m:\u001b[0m invalid non-printable character U+200B\n"
     ]
    }
   ],
   "source": [
    "# girilen 2 basamaklı sayıyı yazıya çevirme\n",
    "birler =  [\"\",\"Bir\",\"İki\",\"Üç\",\"Dört\",\"Beş\",\"Altı\",\"Yedi\",\"Sekiz\",\"Dokuz\"]\n",
    "onlar = [\"\",\"On\",\"Yirmi\",\"Otuz\",\"Kırk\",\"Elli\",\"Altmış\",\"Yetmiş\",\"Seksen\",\"Doksan\"]\n",
    "​\n",
    "def okunus(number):\n",
    "    birinci = number % 10\n",
    "    ikinci = number // 10\n",
    "    \n",
    "    return \"Girdiğiniz sayı: \" + onlar[ikinci] + \" \" + birler[birinci]"
   ]
  },
  {
   "cell_type": "code",
   "execution_count": null,
   "metadata": {},
   "outputs": [],
   "source": [
    "\n",
    "# Girilen iki sayının Ebob'unu bulma\n",
    "def ebob_bulma(sayı1,sayı2):\n",
    "    \n",
    "    i = 1\n",
    "    ebob = 1\n",
    "while (i <= sayı1 and i <= sayı2 ):      \n",
    "    if ( not (sayı1 % i) and not (sayı2 % i)):    #  \" if sayı1 % i == 0 and sayı2 % i == 0: \"  olur\n",
    "      ebob = i \n",
    "    i += 1\n",
    "    return ebob\n",
    "def ebob2(sayı1,sayı2):\n",
    "    \n",
    "    sayının_ebobu = ebob_bulma(sayı1, sayı2)\n",
    "    ekok = (sayı1*sayı2)//sayının_ebobu\n",
    "    return ekok"
   ]
  },
  {
   "cell_type": "code",
   "execution_count": null,
   "metadata": {},
   "outputs": [],
   "source": [
    "​\n",
    "# Girilen iki sayının Ekok'unu bulma\n",
    "def ekok_bulma(sayı1,sayı2):\n",
    "    \n",
    "    i = 2\n",
    "    ekok = 1\n",
    "    while True:\n",
    "        if (sayı1 % i == 0 and sayı2 % i == 0):\n",
    "            ekok *= i\n",
    "​\n",
    "            sayı1 //= i\n",
    "            sayı2 //= i\n",
    "​\n",
    "​\n",
    "        elif (sayı1 % i ==  0 and sayı2 % i != 0):\n",
    "            ekok *= i\n",
    "​\n",
    "            sayı1 //= i\n",
    "​\n",
    "​\n",
    "        elif (sayı1 % i != 0 and sayı2 % i == 0):\n",
    "            ekok *= i\n",
    "​\n",
    "            sayı2 //= i\n",
    "        else:\n",
    "            i += 1\n",
    "        if (sayı1 == 1 and sayı2 == 1):\n",
    "            break\n",
    "    \n",
    "    return ekok\n",
    "​"
   ]
  }
 ],
 "metadata": {
  "kernelspec": {
   "display_name": "Python 3",
   "language": "python",
   "name": "python3"
  },
  "language_info": {
   "codemirror_mode": {
    "name": "ipython",
    "version": 3
   },
   "file_extension": ".py",
   "mimetype": "text/x-python",
   "name": "python",
   "nbconvert_exporter": "python",
   "pygments_lexer": "ipython3",
   "version": "3.11.1"
  },
  "orig_nbformat": 4
 },
 "nbformat": 4,
 "nbformat_minor": 2
}
