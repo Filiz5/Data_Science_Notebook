{
 "cells": [
  {
   "attachments": {
    "logo.png": {
     "image/png": "[encoded data removed]"
    }
   },
   "cell_type": "markdown",
   "id": "61f0657b",
   "metadata": {},
   "source": [
    "![logo.png](attachment:logo.png)"
   ]
  },
  {
   "cell_type": "markdown",
   "id": "95f61b17-f2e4-41cb-9318-8154c4cfba00",
   "metadata": {},
   "source": [
    "# NumPy Assignment"
   ]
  },
  {
   "cell_type": "markdown",
   "id": "0b956e8b-c012-4b7d-9fe1-be68fe668606",
   "metadata": {},
   "source": [
    "## Import the numpy package under the name as np & print the numpy version"
   ]
  },
  {
   "cell_type": "code",
   "execution_count": 1,
   "id": "668e8221",
   "metadata": {
    "ExecuteTime": {
     "end_time": "2023-04-07T22:31:36.497384Z",
     "start_time": "2023-04-07T22:31:36.258128Z"
    }
   },
   "outputs": [],
   "source": [
    "import numpy as np\n"
   ]
  },
  {
   "cell_type": "code",
   "execution_count": 3,
   "id": "ea8855f2",
   "metadata": {
    "ExecuteTime": {
     "end_time": "2023-04-07T22:31:52.843188Z",
     "start_time": "2023-04-07T22:31:52.828060Z"
    }
   },
   "outputs": [
    {
     "name": "stdout",
     "output_type": "stream",
     "text": [
      "1.21.5\n",
      "blas_mkl_info:\n",
      "    libraries = ['mkl_rt']\n",
      "    library_dirs = ['C:/Users/filiz/anaconda3\\\\Library\\\\lib']\n",
      "    define_macros = [('SCIPY_MKL_H', None), ('HAVE_CBLAS', None)]\n",
      "    include_dirs = ['C:/Users/filiz/anaconda3\\\\Library\\\\include']\n",
      "blas_opt_info:\n",
      "    libraries = ['mkl_rt']\n",
      "    library_dirs = ['C:/Users/filiz/anaconda3\\\\Library\\\\lib']\n",
      "    define_macros = [('SCIPY_MKL_H', None), ('HAVE_CBLAS', None)]\n",
      "    include_dirs = ['C:/Users/filiz/anaconda3\\\\Library\\\\include']\n",
      "lapack_mkl_info:\n",
      "    libraries = ['mkl_rt']\n",
      "    library_dirs = ['C:/Users/filiz/anaconda3\\\\Library\\\\lib']\n",
      "    define_macros = [('SCIPY_MKL_H', None), ('HAVE_CBLAS', None)]\n",
      "    include_dirs = ['C:/Users/filiz/anaconda3\\\\Library\\\\include']\n",
      "lapack_opt_info:\n",
      "    libraries = ['mkl_rt']\n",
      "    library_dirs = ['C:/Users/filiz/anaconda3\\\\Library\\\\lib']\n",
      "    define_macros = [('SCIPY_MKL_H', None), ('HAVE_CBLAS', None)]\n",
      "    include_dirs = ['C:/Users/filiz/anaconda3\\\\Library\\\\include']\n",
      "Supported SIMD extensions in this NumPy install:\n",
      "    baseline = SSE,SSE2,SSE3\n",
      "    found = SSSE3,SSE41,POPCNT,SSE42,AVX,F16C,FMA3,AVX2\n",
      "    not found = AVX512F,AVX512CD,AVX512_SKX,AVX512_CLX,AVX512_CNL\n"
     ]
    }
   ],
   "source": [
    "print(np.__version__)\n",
    "np.show_config()"
   ]
  },
  {
   "cell_type": "markdown",
   "id": "8c171220-e212-4057-ad4c-e809ba8961fd",
   "metadata": {},
   "source": [
    "## Create a null vector of size 10"
   ]
  },
  {
   "cell_type": "code",
   "execution_count": 5,
   "id": "107c7c3b",
   "metadata": {
    "ExecuteTime": {
     "end_time": "2023-04-07T22:33:25.883056Z",
     "start_time": "2023-04-07T22:33:25.861500Z"
    }
   },
   "outputs": [
    {
     "name": "stdout",
     "output_type": "stream",
     "text": [
      "[0. 0. 0. 0. 0. 0. 0. 0. 0. 0.]\n"
     ]
    }
   ],
   "source": [
    "aa = np.zeros(10)\n",
    "print(aa)"
   ]
  },
  {
   "cell_type": "markdown",
   "id": "2891b252-a1db-4ab4-a164-47c9cce9a271",
   "metadata": {},
   "source": [
    "## Create a null vector of size 10 but the fifth value which is 1"
   ]
  },
  {
   "cell_type": "code",
   "execution_count": 6,
   "id": "51e58682",
   "metadata": {
    "ExecuteTime": {
     "end_time": "2023-04-07T22:34:14.337235Z",
     "start_time": "2023-04-07T22:34:14.322204Z"
    }
   },
   "outputs": [
    {
     "data": {
      "text/plain": [
       "array([0., 0., 0., 0., 1., 0., 0., 0., 0., 0.])"
      ]
     },
     "execution_count": 6,
     "metadata": {},
     "output_type": "execute_result"
    }
   ],
   "source": [
    "#1.yol\n",
    "bb = np.zeros(10)\n",
    "bb[4] = 1\n",
    "bb"
   ]
  },
  {
   "cell_type": "code",
   "execution_count": 8,
   "id": "d54ee96e",
   "metadata": {
    "ExecuteTime": {
     "end_time": "2023-04-07T22:36:24.216651Z",
     "start_time": "2023-04-07T22:36:24.208249Z"
    }
   },
   "outputs": [
    {
     "data": {
      "text/plain": [
       "[0, 0, 0, 0, 1, 0, 0, 0, 0, 0]"
      ]
     },
     "execution_count": 8,
     "metadata": {},
     "output_type": "execute_result"
    }
   ],
   "source": [
    "#2.yol\n",
    "[int(x==4)  for x in range(10)]"
   ]
  },
  {
   "cell_type": "code",
   "execution_count": 9,
   "id": "3806bf13",
   "metadata": {
    "ExecuteTime": {
     "end_time": "2023-04-07T22:38:29.369565Z",
     "start_time": "2023-04-07T22:38:29.363749Z"
    }
   },
   "outputs": [
    {
     "data": {
      "text/plain": [
       "array([0, 0, 0, 0, 1, 0, 0, 0, 0, 0])"
      ]
     },
     "execution_count": 9,
     "metadata": {},
     "output_type": "execute_result"
    }
   ],
   "source": [
    "#2.yol\n",
    "np.array([int(x==4) for x in range(10)]) "
   ]
  },
  {
   "cell_type": "code",
   "execution_count": 13,
   "id": "e67da16e",
   "metadata": {
    "ExecuteTime": {
     "end_time": "2023-04-07T22:40:23.488909Z",
     "start_time": "2023-04-07T22:40:23.477187Z"
    }
   },
   "outputs": [
    {
     "data": {
      "text/plain": [
       "array([0, 0, 0, 0, 1, 0, 0, 0, 0, 0])"
      ]
     },
     "execution_count": 13,
     "metadata": {},
     "output_type": "execute_result"
    }
   ],
   "source": [
    "# 3.yol\n",
    "(np.arange(10)== 4).astype(int) # astype bool degerleri int. yapiyor! "
   ]
  },
  {
   "cell_type": "code",
   "execution_count": 36,
   "id": "bb057113",
   "metadata": {
    "ExecuteTime": {
     "end_time": "2023-04-06T13:07:40.673334Z",
     "start_time": "2023-04-06T13:07:40.665138Z"
    }
   },
   "outputs": [
    {
     "data": {
      "text/plain": [
       "array([False, False, False, False,  True, False, False, False, False,\n",
       "       False])"
      ]
     },
     "execution_count": 36,
     "metadata": {},
     "output_type": "execute_result"
    }
   ],
   "source": [
    "np.arange(10) == 4"
   ]
  },
  {
   "cell_type": "code",
   "execution_count": 15,
   "id": "5bc74358",
   "metadata": {
    "ExecuteTime": {
     "end_time": "2023-04-07T22:42:48.116474Z",
     "start_time": "2023-04-07T22:42:48.106600Z"
    }
   },
   "outputs": [
    {
     "data": {
      "text/plain": [
       "array([0, 0, 0, 0, 1, 0, 0, 0, 0, 0])"
      ]
     },
     "execution_count": 15,
     "metadata": {},
     "output_type": "execute_result"
    }
   ],
   "source": [
    "# 4.yol\n",
    "(np.arange(10) == 4) * 1"
   ]
  },
  {
   "cell_type": "code",
   "execution_count": 40,
   "id": "2a0dda73",
   "metadata": {
    "ExecuteTime": {
     "end_time": "2023-04-06T13:11:09.064962Z",
     "start_time": "2023-04-06T13:11:09.044687Z"
    }
   },
   "outputs": [
    {
     "data": {
      "text/plain": [
       "array([0, 0, 0, 0, 1, 0, 0, 0, 0, 0])"
      ]
     },
     "execution_count": 40,
     "metadata": {},
     "output_type": "execute_result"
    }
   ],
   "source": [
    "#5.yol\n",
    "np.where(np.arange(10)==4,1,0) # sart kosuyoruz. index = 4 olan yere 1 koy digerleri 0! "
   ]
  },
  {
   "cell_type": "code",
   "execution_count": 43,
   "id": "b69f98fe",
   "metadata": {
    "ExecuteTime": {
     "end_time": "2023-04-06T13:12:11.973053Z",
     "start_time": "2023-04-06T13:12:11.967395Z"
    }
   },
   "outputs": [
    {
     "data": {
      "text/plain": [
       "array([ 0.31529834, -1.52885791,  0.94770592,  0.08665045,  0.29708645,\n",
       "        1.9472385 , -2.33850537, -0.37456328, -1.48370011,  0.30915711])"
      ]
     },
     "execution_count": 43,
     "metadata": {},
     "output_type": "execute_result"
    }
   ],
   "source": [
    "#Not:\n",
    "arr = np.array(np.random.randn(10)) # randn --> negatief sayida uretiyor! \n",
    "arr"
   ]
  },
  {
   "cell_type": "code",
   "execution_count": 48,
   "id": "d01ba3d9",
   "metadata": {
    "ExecuteTime": {
     "end_time": "2023-04-06T13:19:05.016161Z",
     "start_time": "2023-04-06T13:19:05.003211Z"
    }
   },
   "outputs": [
    {
     "data": {
      "text/plain": [
       "array([0.90537747, 0.76652235, 0.88008971, 0.13188145, 0.78817998,\n",
       "       0.14189683, 0.06108561, 0.30036071, 0.2931716 , 0.16003062])"
      ]
     },
     "execution_count": 48,
     "metadata": {},
     "output_type": "execute_result"
    }
   ],
   "source": [
    " #Not:\n",
    "arr = np.random.rand(10) # 0 ile 1 arasinda 10 sayi uretti! \n",
    "arr"
   ]
  },
  {
   "cell_type": "markdown",
   "id": "5583893c",
   "metadata": {},
   "source": [
    "np.arange : belirli bir aralıkta belirli artış adımlarıyla sayılar oluştururken, \n",
    "np.random.randint: belirli bir aralıkta rastgele sayılar oluşturur."
   ]
  },
  {
   "cell_type": "markdown",
   "id": "491e5318-b216-48d8-8f35-82cd66594408",
   "metadata": {},
   "source": [
    "## Create a vector with values ranging from 10 to 49"
   ]
  },
  {
   "cell_type": "code",
   "execution_count": 49,
   "id": "36253df9",
   "metadata": {
    "ExecuteTime": {
     "end_time": "2023-04-06T13:22:40.895500Z",
     "start_time": "2023-04-06T13:22:40.878656Z"
    }
   },
   "outputs": [
    {
     "data": {
      "text/plain": [
       "array([10, 11, 12, 13, 14, 15, 16, 17, 18, 19, 20, 21, 22, 23, 24, 25, 26,\n",
       "       27, 28, 29, 30, 31, 32, 33, 34, 35, 36, 37, 38, 39, 40, 41, 42, 43,\n",
       "       44, 45, 46, 47, 48, 49])"
      ]
     },
     "execution_count": 49,
     "metadata": {},
     "output_type": "execute_result"
    }
   ],
   "source": [
    "# 1 yol\n",
    "seri= np.arange(10,50) # 50 dahil degil!\n",
    "seri"
   ]
  },
  {
   "cell_type": "code",
   "execution_count": 51,
   "id": "6636ab47",
   "metadata": {
    "ExecuteTime": {
     "end_time": "2023-04-06T13:23:35.331357Z",
     "start_time": "2023-04-06T13:23:35.325034Z"
    }
   },
   "outputs": [
    {
     "name": "stdout",
     "output_type": "stream",
     "text": [
      "10 11 12 13 14 15 16 17 18 19 20 21 22 23 24 25 26 27 28 29 30 31 32 33 34 35 36 37 38 39 40 41 42 43 44 45 46 47 48 49\n"
     ]
    }
   ],
   "source": [
    "print(*np.arange(10,50))"
   ]
  },
  {
   "cell_type": "code",
   "execution_count": null,
   "id": "8323ba82",
   "metadata": {},
   "outputs": [],
   "source": []
  },
  {
   "cell_type": "code",
   "execution_count": 17,
   "id": "fbb4f666",
   "metadata": {
    "ExecuteTime": {
     "end_time": "2023-04-07T22:51:27.117323Z",
     "start_time": "2023-04-07T22:51:27.107668Z"
    }
   },
   "outputs": [
    {
     "data": {
      "text/plain": [
       "array([[[25, 18, 23, 33],\n",
       "        [27, 15, 46, 39],\n",
       "        [25, 45, 40, 12]],\n",
       "\n",
       "       [[32, 32, 33, 40],\n",
       "        [33, 46, 21, 10],\n",
       "        [35, 45, 36, 16]]])"
      ]
     },
     "execution_count": 17,
     "metadata": {},
     "output_type": "execute_result"
    }
   ],
   "source": [
    "#Not:\n",
    "np.random.randint(10,50, size=(2,3,4))"
   ]
  },
  {
   "cell_type": "markdown",
   "id": "b7818669-03a5-4f61-b08f-b85b8dd94372",
   "metadata": {},
   "source": [
    "## Reverse a vector (first element becomes last)"
   ]
  },
  {
   "cell_type": "code",
   "execution_count": 18,
   "id": "027a4256",
   "metadata": {
    "ExecuteTime": {
     "end_time": "2023-04-07T22:52:24.396604Z",
     "start_time": "2023-04-07T22:52:24.382332Z"
    }
   },
   "outputs": [
    {
     "data": {
      "text/plain": [
       "array([19, 18, 17, 16, 15, 14, 13, 12, 11, 10,  9,  8,  7,  6,  5,  4,  3,\n",
       "        2,  1,  0])"
      ]
     },
     "execution_count": 18,
     "metadata": {},
     "output_type": "execute_result"
    }
   ],
   "source": [
    "#1.yol\n",
    "seri= np.arange(20)\n",
    "seri = seri[::-1]\n",
    "seri\n"
   ]
  },
  {
   "cell_type": "code",
   "execution_count": 67,
   "id": "27d6ecf8",
   "metadata": {
    "ExecuteTime": {
     "end_time": "2023-04-06T13:35:17.297958Z",
     "start_time": "2023-04-06T13:35:17.279539Z"
    }
   },
   "outputs": [
    {
     "data": {
      "text/plain": [
       "array([49, 48, 47, 46, 45, 44, 43, 42, 41, 40, 39, 38, 37, 36, 35, 34, 33,\n",
       "       32, 31, 30, 29, 28, 27, 26, 25, 24, 23, 22, 21, 20, 19, 18, 17, 16,\n",
       "       15, 14, 13, 12, 11, 10,  9,  8,  7,  6,  5,  4,  3,  2,  1,  0])"
      ]
     },
     "execution_count": 67,
     "metadata": {},
     "output_type": "execute_result"
    }
   ],
   "source": [
    "#2.yol \n",
    "arr = np.arange(50)\n",
    "list_arr = list(arr)\n",
    "\n",
    "list_arr.reverse()\n",
    "\n",
    "np.array(list_arr)"
   ]
  },
  {
   "cell_type": "code",
   "execution_count": 25,
   "id": "a5803e00",
   "metadata": {
    "ExecuteTime": {
     "end_time": "2023-04-07T22:57:05.525684Z",
     "start_time": "2023-04-07T22:57:05.513939Z"
    }
   },
   "outputs": [
    {
     "data": {
      "text/plain": [
       "array([29, 28, 27, 26, 25, 24, 23, 22, 21, 20, 19, 18, 17, 16, 15, 14, 13,\n",
       "       12, 11, 10,  9,  8,  7,  6,  5,  4,  3,  2,  1,  0])"
      ]
     },
     "execution_count": 25,
     "metadata": {},
     "output_type": "execute_result"
    }
   ],
   "source": [
    "#3.yol\n",
    "s2= np.arange(30)\n",
    "np.flip(s2) # flip() tersden siralar"
   ]
  },
  {
   "cell_type": "code",
   "execution_count": 24,
   "id": "c3538a58",
   "metadata": {
    "ExecuteTime": {
     "end_time": "2023-04-07T22:56:56.298526Z",
     "start_time": "2023-04-07T22:56:56.282449Z"
    }
   },
   "outputs": [
    {
     "data": {
      "text/plain": [
       "array([19, 18, 17, 16, 15, 14, 13, 12, 11, 10,  9,  8,  7,  6,  5,  4,  3,\n",
       "        2,  1,  0])"
      ]
     },
     "execution_count": 24,
     "metadata": {},
     "output_type": "execute_result"
    }
   ],
   "source": [
    "#3.yol\n",
    "np.flip(np.arange(20)) "
   ]
  },
  {
   "cell_type": "markdown",
   "id": "5f4a94e4-596a-4c85-8356-7eb86d6cacbe",
   "metadata": {},
   "source": [
    "## Create a 3x3 matrix with values ranging from 0 to 8"
   ]
  },
  {
   "cell_type": "code",
   "execution_count": 26,
   "id": "6bc73f48",
   "metadata": {
    "ExecuteTime": {
     "end_time": "2023-04-07T22:59:13.942442Z",
     "start_time": "2023-04-07T22:59:13.921932Z"
    }
   },
   "outputs": [
    {
     "data": {
      "text/plain": [
       "array([[0, 1, 2],\n",
       "       [3, 4, 5],\n",
       "       [6, 7, 8]])"
      ]
     },
     "execution_count": 26,
     "metadata": {},
     "output_type": "execute_result"
    }
   ],
   "source": [
    "#1.yol\n",
    "s3 = np.arange(9).reshape(3,3)\n",
    "s3"
   ]
  },
  {
   "cell_type": "code",
   "execution_count": 14,
   "id": "116472ba",
   "metadata": {
    "ExecuteTime": {
     "end_time": "2023-04-06T11:48:32.464517Z",
     "start_time": "2023-04-06T11:48:32.448961Z"
    }
   },
   "outputs": [
    {
     "name": "stdout",
     "output_type": "stream",
     "text": [
      "[[0 1 2]\n",
      " [3 4 5]\n",
      " [6 7 8]]\n"
     ]
    }
   ],
   "source": [
    "#NOT:\n",
    "print(np.arange(9).reshape(3,3))"
   ]
  },
  {
   "cell_type": "code",
   "execution_count": 27,
   "id": "9bfed0e9",
   "metadata": {
    "ExecuteTime": {
     "end_time": "2023-04-07T23:00:29.798773Z",
     "start_time": "2023-04-07T23:00:29.788191Z"
    }
   },
   "outputs": [
    {
     "data": {
      "text/plain": [
       "array([[0, 1, 2],\n",
       "       [3, 4, 5],\n",
       "       [6, 7, 8]])"
      ]
     },
     "execution_count": 27,
     "metadata": {},
     "output_type": "execute_result"
    }
   ],
   "source": [
    "#2.yol\n",
    "np.resize(range(0,9),(3,3))"
   ]
  },
  {
   "cell_type": "code",
   "execution_count": null,
   "id": "91144915",
   "metadata": {},
   "outputs": [],
   "source": []
  },
  {
   "cell_type": "code",
   "execution_count": 29,
   "id": "fb25086f",
   "metadata": {
    "ExecuteTime": {
     "end_time": "2023-04-07T23:04:33.146464Z",
     "start_time": "2023-04-07T23:04:33.126578Z"
    }
   },
   "outputs": [
    {
     "name": "stdout",
     "output_type": "stream",
     "text": [
      "[[0 1 2]\n",
      " [3 4 5]\n",
      " [6 7 8]]\n"
     ]
    }
   ],
   "source": [
    "#3.yol\n",
    "s3 = np.arange(9).reshape(3,3)\n",
    "print(s3)"
   ]
  },
  {
   "cell_type": "code",
   "execution_count": 75,
   "id": "2f08c6af",
   "metadata": {
    "ExecuteTime": {
     "end_time": "2023-04-06T13:40:16.464895Z",
     "start_time": "2023-04-06T13:40:16.448689Z"
    }
   },
   "outputs": [
    {
     "data": {
      "text/plain": [
       "(3, 3)"
      ]
     },
     "execution_count": 75,
     "metadata": {},
     "output_type": "execute_result"
    }
   ],
   "source": [
    "s3.shape"
   ]
  },
  {
   "cell_type": "code",
   "execution_count": 79,
   "id": "1bfbb923",
   "metadata": {
    "ExecuteTime": {
     "end_time": "2023-04-06T13:45:56.518899Z",
     "start_time": "2023-04-06T13:45:56.506487Z"
    }
   },
   "outputs": [
    {
     "data": {
      "text/plain": [
       "array([[2, 1, 6],\n",
       "       [8, 3, 3],\n",
       "       [5, 4, 4]])"
      ]
     },
     "execution_count": 79,
     "metadata": {},
     "output_type": "execute_result"
    }
   ],
   "source": [
    "#4.yol\n",
    "np.random.randint(9, size=(3,3))"
   ]
  },
  {
   "cell_type": "markdown",
   "id": "0df95fd1-f316-4976-849b-756f927f382c",
   "metadata": {},
   "source": [
    "## Find indices of non­zero elements from [1,2,0,0,4,0]"
   ]
  },
  {
   "cell_type": "code",
   "execution_count": 11,
   "id": "95edf755",
   "metadata": {
    "ExecuteTime": {
     "end_time": "2023-04-05T12:56:52.037003Z",
     "start_time": "2023-04-05T12:56:52.025001Z"
    }
   },
   "outputs": [
    {
     "name": "stdout",
     "output_type": "stream",
     "text": [
      "(array([0, 1, 4], dtype=int64),)\n"
     ]
    }
   ],
   "source": [
    "#1.yol\n",
    "nz = np.nonzero([1,2,0,0,4,0])\n",
    "print(nz)"
   ]
  },
  {
   "cell_type": "code",
   "execution_count": 30,
   "id": "c49f619f",
   "metadata": {
    "ExecuteTime": {
     "end_time": "2023-04-07T23:07:05.390558Z",
     "start_time": "2023-04-07T23:07:05.377245Z"
    }
   },
   "outputs": [
    {
     "data": {
      "text/plain": [
       "(array([0, 1, 4], dtype=int64),)"
      ]
     },
     "execution_count": 30,
     "metadata": {},
     "output_type": "execute_result"
    }
   ],
   "source": [
    "nz = np.nonzero([1,2,0,0,4,0])\n",
    "nz"
   ]
  },
  {
   "cell_type": "code",
   "execution_count": 33,
   "id": "4b97a8cb",
   "metadata": {
    "ExecuteTime": {
     "end_time": "2023-04-07T23:10:32.377236Z",
     "start_time": "2023-04-07T23:10:32.360806Z"
    }
   },
   "outputs": [
    {
     "name": "stdout",
     "output_type": "stream",
     "text": [
      "(array([0, 1, 4], dtype=int64),)\n"
     ]
    }
   ],
   "source": [
    "#2.yol\n",
    "arr = np.array([1, 2, 0, 0, 4, 0]) # nonzero sifir olmayan elemanlarin indexlerini dondurur, \n",
    "indices = np.nonzero(arr)#[0]\n",
    "print(indices)"
   ]
  },
  {
   "cell_type": "code",
   "execution_count": 17,
   "id": "1b295ec5",
   "metadata": {
    "ExecuteTime": {
     "end_time": "2023-04-06T11:55:54.960550Z",
     "start_time": "2023-04-06T11:55:54.950642Z"
    }
   },
   "outputs": [
    {
     "data": {
      "text/plain": [
       "(array([0, 1, 4], dtype=int64),)"
      ]
     },
     "execution_count": 17,
     "metadata": {},
     "output_type": "execute_result"
    }
   ],
   "source": [
    "#3.yol\n",
    "arr = np.array([1,2,0,0,4,0])\n",
    "np.where(arr != 0)"
   ]
  },
  {
   "cell_type": "markdown",
   "id": "efc45ac3-9297-4ea0-9fd8-8534c46935e4",
   "metadata": {},
   "source": [
    "## Create a 3x3 identity matrix\n",
    "Identity matrix, kare matrisler için özel bir türdür. Diagonalindeki tüm elemanlar 1, diğer elemanlar ise 0 olan kare matrisdir."
   ]
  },
  {
   "cell_type": "code",
   "execution_count": 34,
   "id": "bb3b3ade",
   "metadata": {
    "ExecuteTime": {
     "end_time": "2023-04-07T23:11:51.726232Z",
     "start_time": "2023-04-07T23:11:51.708416Z"
    }
   },
   "outputs": [
    {
     "data": {
      "text/plain": [
       "array([[1., 0., 0.],\n",
       "       [0., 1., 0.],\n",
       "       [0., 0., 1.]])"
      ]
     },
     "execution_count": 34,
     "metadata": {},
     "output_type": "execute_result"
    }
   ],
   "source": [
    "s4 = np.eye(3)\n",
    "s4"
   ]
  },
  {
   "cell_type": "markdown",
   "id": "aa19488a-0613-48f3-8604-4499afe134e8",
   "metadata": {},
   "source": [
    "## Create a 3x3x3 array with random values"
   ]
  },
  {
   "cell_type": "code",
   "execution_count": 36,
   "id": "0465ead9",
   "metadata": {
    "ExecuteTime": {
     "end_time": "2023-04-07T23:13:17.527980Z",
     "start_time": "2023-04-07T23:13:17.510046Z"
    }
   },
   "outputs": [
    {
     "data": {
      "text/plain": [
       "array([[[25, 15, 12],\n",
       "        [18,  1, 14],\n",
       "        [17,  7, 19]],\n",
       "\n",
       "       [[18,  7, 18],\n",
       "        [24, 26, 24],\n",
       "        [25,  5, 13]],\n",
       "\n",
       "       [[ 7, 29,  9],\n",
       "        [20,  2, 29],\n",
       "        [ 0, 17, 16]]])"
      ]
     },
     "execution_count": 36,
     "metadata": {},
     "output_type": "execute_result"
    }
   ],
   "source": [
    "Z = np.random.randint(30,size=(3,3,3))\n",
    "Z "
   ]
  },
  {
   "cell_type": "markdown",
   "id": "456bd772-149a-410a-9c86-04f1b19c6ae1",
   "metadata": {},
   "source": [
    "## Create a 10x10 array with random values and find the minimum and maximum values"
   ]
  },
  {
   "cell_type": "code",
   "execution_count": 37,
   "id": "ec01322d",
   "metadata": {
    "ExecuteTime": {
     "end_time": "2023-04-07T23:17:50.512673Z",
     "start_time": "2023-04-07T23:17:50.503778Z"
    },
    "scrolled": true
   },
   "outputs": [
    {
     "name": "stdout",
     "output_type": "stream",
     "text": [
      "0.017872998973071486 0.9978322522861645\n"
     ]
    }
   ],
   "source": [
    "# 1.yol\n",
    "x = np.random.random((10,10))\n",
    "xmin, xmax = x.min(), x.max()\n",
    "print(xmin, xmax)"
   ]
  },
  {
   "cell_type": "code",
   "execution_count": 39,
   "id": "f71f3582",
   "metadata": {
    "ExecuteTime": {
     "end_time": "2023-04-07T23:21:17.644099Z",
     "start_time": "2023-04-07T23:21:17.628534Z"
    }
   },
   "outputs": [
    {
     "name": "stdout",
     "output_type": "stream",
     "text": [
      "99\n",
      "0\n"
     ]
    }
   ],
   "source": [
    "arr = np.random.randint(100, size =(10,10))\n",
    "print(arr.max())\n",
    "print(arr.min())"
   ]
  },
  {
   "cell_type": "code",
   "execution_count": 41,
   "id": "2837bc5c",
   "metadata": {
    "ExecuteTime": {
     "end_time": "2023-04-07T23:24:00.237037Z",
     "start_time": "2023-04-07T23:24:00.216526Z"
    }
   },
   "outputs": [
    {
     "name": "stdout",
     "output_type": "stream",
     "text": [
      "arrmax: 198 \n",
      "arrmin: 3\n"
     ]
    }
   ],
   "source": [
    "arr = np.random.randint(1,200, size=(10,10))\n",
    "print(f\"arrmax: {arr.max()} \\narrmin: {arr.min()}\")"
   ]
  },
  {
   "cell_type": "markdown",
   "id": "8cbf0c5f-e2dd-4418-b923-a52bbda70b7e",
   "metadata": {},
   "source": [
    "## Create a random vector of size 30 and find the mean value"
   ]
  },
  {
   "cell_type": "code",
   "execution_count": 43,
   "id": "625f82b7",
   "metadata": {
    "ExecuteTime": {
     "end_time": "2023-04-07T23:26:17.039893Z",
     "start_time": "2023-04-07T23:26:17.029456Z"
    }
   },
   "outputs": [
    {
     "name": "stdout",
     "output_type": "stream",
     "text": [
      "54.56666666666667\n"
     ]
    }
   ],
   "source": [
    "B = np.random.randint(1,100,30)\n",
    "\n",
    "m = B.mean()\n",
    "print(m)"
   ]
  },
  {
   "cell_type": "code",
   "execution_count": 45,
   "id": "6ab8f728",
   "metadata": {
    "ExecuteTime": {
     "end_time": "2023-04-07T23:26:56.079180Z",
     "start_time": "2023-04-07T23:26:56.072501Z"
    }
   },
   "outputs": [
    {
     "data": {
      "text/plain": [
       "array([0.57737261, 0.25605822, 0.68128196, 0.60857127, 0.29575854,\n",
       "       0.5584426 , 0.9575383 , 0.84864946, 0.13445951, 0.87502738,\n",
       "       0.30740776, 0.99064974, 0.88162076, 0.55365282, 0.94524551,\n",
       "       0.24831657, 0.96295093, 0.89951795, 0.26019864, 0.42976312,\n",
       "       0.25890047, 0.66339884, 0.26786719, 0.22708315, 0.41953752,\n",
       "       0.67377634, 0.6888981 , 0.06065572, 0.94461544, 0.58356787])"
      ]
     },
     "execution_count": 45,
     "metadata": {},
     "output_type": "execute_result"
    }
   ],
   "source": [
    "#NOT:\n",
    "B = np.random.random(30)\n",
    "B"
   ]
  },
  {
   "cell_type": "markdown",
   "id": "7cc5ba2a-7b21-4c76-9d9c-cd84ecb98875",
   "metadata": {},
   "source": [
    "## Create a 2d array with 1 on the border and 0 inside"
   ]
  },
  {
   "cell_type": "code",
   "execution_count": 48,
   "id": "4e984821",
   "metadata": {
    "ExecuteTime": {
     "end_time": "2023-04-07T23:29:13.961781Z",
     "start_time": "2023-04-07T23:29:13.949048Z"
    }
   },
   "outputs": [
    {
     "data": {
      "text/plain": [
       "array([[1, 1, 1, 1, 1, 1],\n",
       "       [1, 0, 0, 0, 0, 1],\n",
       "       [1, 0, 0, 0, 0, 1],\n",
       "       [1, 0, 0, 0, 0, 1],\n",
       "       [1, 0, 0, 0, 0, 1],\n",
       "       [1, 1, 1, 1, 1, 1]])"
      ]
     },
     "execution_count": 48,
     "metadata": {},
     "output_type": "execute_result"
    }
   ],
   "source": [
    "A = np.ones((6,6),dtype=int)\n",
    "A[1:-1,1:-1] = 0\n",
    "A"
   ]
  },
  {
   "cell_type": "markdown",
   "id": "b0b05e7c-7eb0-486d-8b17-2a1f48b392a6",
   "metadata": {},
   "source": [
    "## Create a 5x5 matrix with values 1,2,3,4 just below the diagonal"
   ]
  },
  {
   "attachments": {
    "image.png": {
     "image/png": "[encoded data removed]"
    }
   },
   "cell_type": "markdown",
   "id": "f9f12720",
   "metadata": {},
   "source": [
    "![image.png](attachment:image.png)"
   ]
  },
  {
   "cell_type": "code",
   "execution_count": 51,
   "id": "15281c7d",
   "metadata": {
    "ExecuteTime": {
     "end_time": "2023-04-07T23:33:33.862463Z",
     "start_time": "2023-04-07T23:33:33.844976Z"
    }
   },
   "outputs": [
    {
     "name": "stdout",
     "output_type": "stream",
     "text": [
      "[[0 0 0 0 0]\n",
      " [1 0 0 0 0]\n",
      " [0 2 0 0 0]\n",
      " [0 0 3 0 0]\n",
      " [0 0 0 4 0]]\n"
     ]
    }
   ],
   "source": [
    "# 1 yol\n",
    "A = np.diag(1+np.arange(4),k=-1) \n",
    "print(A)"
   ]
  },
  {
   "cell_type": "code",
   "execution_count": 56,
   "id": "41e77e55",
   "metadata": {
    "ExecuteTime": {
     "end_time": "2023-04-07T23:36:25.026167Z",
     "start_time": "2023-04-07T23:36:25.018280Z"
    }
   },
   "outputs": [
    {
     "data": {
      "text/plain": [
       "array([1, 2, 3, 4])"
      ]
     },
     "execution_count": 56,
     "metadata": {},
     "output_type": "execute_result"
    }
   ],
   "source": [
    "np.arange(4)+1"
   ]
  },
  {
   "cell_type": "code",
   "execution_count": 52,
   "id": "95276157",
   "metadata": {
    "ExecuteTime": {
     "end_time": "2023-04-07T23:35:13.525054Z",
     "start_time": "2023-04-07T23:35:13.515798Z"
    }
   },
   "outputs": [
    {
     "data": {
      "text/plain": [
       "array([[0, 0, 0, 0, 0],\n",
       "       [1, 0, 0, 0, 0],\n",
       "       [0, 2, 0, 0, 0],\n",
       "       [0, 0, 3, 0, 0],\n",
       "       [0, 0, 0, 4, 0]])"
      ]
     },
     "execution_count": 52,
     "metadata": {},
     "output_type": "execute_result"
    }
   ],
   "source": [
    "np.diag((1,2,3,4), k=-1)"
   ]
  },
  {
   "cell_type": "code",
   "execution_count": 63,
   "id": "02665ab5",
   "metadata": {
    "ExecuteTime": {
     "end_time": "2023-04-07T23:43:48.943355Z",
     "start_time": "2023-04-07T23:43:48.927857Z"
    }
   },
   "outputs": [
    {
     "data": {
      "text/plain": [
       "array([[0, 0, 0, 0, 0],\n",
       "       [1, 0, 0, 0, 0],\n",
       "       [0, 2, 0, 0, 0],\n",
       "       [0, 0, 3, 0, 0],\n",
       "       [0, 0, 0, 4, 0]])"
      ]
     },
     "execution_count": 63,
     "metadata": {},
     "output_type": "execute_result"
    }
   ],
   "source": [
    "#2.yol\n",
    "np.eye(5,5,k=-1,dtype=int) * np.arange(1,6)"
   ]
  },
  {
   "cell_type": "code",
   "execution_count": 58,
   "id": "0dc67a6e",
   "metadata": {
    "ExecuteTime": {
     "end_time": "2023-04-07T23:38:25.561799Z",
     "start_time": "2023-04-07T23:38:25.543376Z"
    }
   },
   "outputs": [
    {
     "data": {
      "text/plain": [
       "array([1, 2, 3, 4, 5])"
      ]
     },
     "execution_count": 58,
     "metadata": {},
     "output_type": "execute_result"
    }
   ],
   "source": [
    "np.arange(1,6)"
   ]
  },
  {
   "cell_type": "code",
   "execution_count": 5,
   "id": "9984d17e",
   "metadata": {
    "ExecuteTime": {
     "end_time": "2023-04-07T12:45:21.755015Z",
     "start_time": "2023-04-07T12:45:21.728759Z"
    }
   },
   "outputs": [
    {
     "data": {
      "text/plain": [
       "array([[0, 0, 0, 0, 0],\n",
       "       [1, 0, 0, 0, 0],\n",
       "       [0, 2, 0, 0, 0],\n",
       "       [0, 0, 3, 0, 0],\n",
       "       [0, 0, 0, 4, 0]])"
      ]
     },
     "execution_count": 5,
     "metadata": {},
     "output_type": "execute_result"
    }
   ],
   "source": [
    "# 3 yol\n",
    "arr=np.zeros([5,5], dtype=int)\n",
    "arr[1,0]=1 \n",
    "arr[2,1]=2\n",
    "arr[3,2]=3\n",
    "arr[4,3]=4\n",
    "arr"
   ]
  },
  {
   "cell_type": "markdown",
   "id": "f22a8d4f-4061-46dc-96c5-f963eba56d40",
   "metadata": {},
   "source": [
    "## Create a 8x8 matrix and fill it with a checkerboard pattern"
   ]
  },
  {
   "attachments": {
    "image.png": {
     "image/png": "[encoded data removed]"
    }
   },
   "cell_type": "markdown",
   "id": "8a715d83",
   "metadata": {},
   "source": [
    "![image.png](attachment:image.png)"
   ]
  },
  {
   "cell_type": "code",
   "execution_count": 42,
   "id": "160416ac",
   "metadata": {
    "ExecuteTime": {
     "end_time": "2023-04-05T14:09:00.410769Z",
     "start_time": "2023-04-05T14:09:00.393663Z"
    }
   },
   "outputs": [
    {
     "name": "stdout",
     "output_type": "stream",
     "text": [
      "[[0 1 0 1 0 1 0 1]\n",
      " [1 0 1 0 1 0 1 0]\n",
      " [0 1 0 1 0 1 0 1]\n",
      " [1 0 1 0 1 0 1 0]\n",
      " [0 1 0 1 0 1 0 1]\n",
      " [1 0 1 0 1 0 1 0]\n",
      " [0 1 0 1 0 1 0 1]\n",
      " [1 0 1 0 1 0 1 0]]\n"
     ]
    }
   ],
   "source": [
    "Z = np.zeros((8,8),dtype=int)\n",
    "Z[1::2,::2] = 1\n",
    "Z[::2,1::2] = 1\n",
    "print(Z)"
   ]
  },
  {
   "cell_type": "markdown",
   "id": "b2c92c26-fa3b-4022-9c71-88a27064ba1b",
   "metadata": {},
   "source": [
    "## Create a checkerboard 8x8 matrix using the tile function"
   ]
  },
  {
   "cell_type": "code",
   "execution_count": 43,
   "id": "4efb7312",
   "metadata": {
    "ExecuteTime": {
     "end_time": "2023-04-05T14:09:33.152612Z",
     "start_time": "2023-04-05T14:09:33.135238Z"
    },
    "scrolled": true
   },
   "outputs": [
    {
     "name": "stdout",
     "output_type": "stream",
     "text": [
      "[[0 1 0 1 0 1 0 1]\n",
      " [1 0 1 0 1 0 1 0]\n",
      " [0 1 0 1 0 1 0 1]\n",
      " [1 0 1 0 1 0 1 0]\n",
      " [0 1 0 1 0 1 0 1]\n",
      " [1 0 1 0 1 0 1 0]\n",
      " [0 1 0 1 0 1 0 1]\n",
      " [1 0 1 0 1 0 1 0]]\n"
     ]
    }
   ],
   "source": [
    "# 1 yol\n",
    "Z = np.tile( np.array([[0,1],[1,0]]), (4,4)) # tile () 4 defa array i satir ve sutun olarak yazdiriyor!\n",
    "print(Z)"
   ]
  },
  {
   "cell_type": "code",
   "execution_count": 65,
   "id": "019485a6",
   "metadata": {
    "ExecuteTime": {
     "end_time": "2023-04-07T23:54:49.271921Z",
     "start_time": "2023-04-07T23:54:49.261411Z"
    }
   },
   "outputs": [
    {
     "data": {
      "text/plain": [
       "array([[0, 1, 0, 1, 0, 1, 0, 1],\n",
       "       [1, 0, 1, 0, 1, 0, 1, 0],\n",
       "       [0, 1, 0, 1, 0, 1, 0, 1],\n",
       "       [1, 0, 1, 0, 1, 0, 1, 0],\n",
       "       [0, 1, 0, 1, 0, 1, 0, 1],\n",
       "       [1, 0, 1, 0, 1, 0, 1, 0],\n",
       "       [0, 1, 0, 1, 0, 1, 0, 1],\n",
       "       [1, 0, 1, 0, 1, 0, 1, 0]])"
      ]
     },
     "execution_count": 65,
     "metadata": {},
     "output_type": "execute_result"
    }
   ],
   "source": [
    "#2.yol\n",
    "c = np.zeros((8,8),dtype=int)\n",
    "c[[0,2,4,6]]= np.tile([0,1],4)\n",
    "c[[1,3,5,7]]= np.tile([1,0],4)\n",
    "c"
   ]
  },
  {
   "cell_type": "code",
   "execution_count": 49,
   "id": "f8d379aa",
   "metadata": {
    "ExecuteTime": {
     "end_time": "2023-04-05T14:18:00.302436Z",
     "start_time": "2023-04-05T14:18:00.290228Z"
    }
   },
   "outputs": [
    {
     "name": "stdout",
     "output_type": "stream",
     "text": [
      "[[1 2 3 1 2 3 1 2 3]\n",
      " [1 2 3 1 2 3 1 2 3]\n",
      " [1 2 3 1 2 3 1 2 3]\n",
      " [1 2 3 1 2 3 1 2 3]\n",
      " [1 2 3 1 2 3 1 2 3]\n",
      " [1 2 3 1 2 3 1 2 3]]\n"
     ]
    }
   ],
   "source": [
    "#NOT:\n",
    "a = np.array([[1, 2, 3], [1,2,3]])\n",
    "\n",
    "\n",
    "b = np.tile(a, (3, 3))\n",
    "\n",
    "print(b)"
   ]
  },
  {
   "cell_type": "code",
   "execution_count": null,
   "id": "149c786a",
   "metadata": {},
   "outputs": [],
   "source": []
  },
  {
   "cell_type": "markdown",
   "id": "7d1e507f-a32d-4ed4-9235-8c1c77b45e90",
   "metadata": {},
   "source": [
    "## Consider a (6,7,8) shape array, what is the index (x,y,z) of the 100th element?"
   ]
  },
  {
   "cell_type": "code",
   "execution_count": 70,
   "id": "d12a2986",
   "metadata": {
    "ExecuteTime": {
     "end_time": "2023-04-08T00:03:54.502728Z",
     "start_time": "2023-04-08T00:03:54.492890Z"
    }
   },
   "outputs": [
    {
     "data": {
      "text/plain": [
       "(1, 5, 4)"
      ]
     },
     "execution_count": 70,
     "metadata": {},
     "output_type": "execute_result"
    }
   ],
   "source": [
    "np.unravel_index(100,(6,7,8)) # eleman sayisi= size 6*7*8=336 unravel_index () istenilen elemanin indexini verir! "
   ]
  },
  {
   "cell_type": "code",
   "execution_count": 71,
   "id": "8b3ad4cf",
   "metadata": {
    "ExecuteTime": {
     "end_time": "2023-04-08T00:04:01.277434Z",
     "start_time": "2023-04-08T00:04:01.257286Z"
    }
   },
   "outputs": [
    {
     "data": {
      "text/plain": [
       "(array([1], dtype=int64), array([5], dtype=int64), array([3], dtype=int64))"
      ]
     },
     "execution_count": 71,
     "metadata": {},
     "output_type": "execute_result"
    }
   ],
   "source": [
    "#Not:\n",
    "np.where((arr==100))"
   ]
  },
  {
   "cell_type": "code",
   "execution_count": 68,
   "id": "b75383dc",
   "metadata": {
    "ExecuteTime": {
     "end_time": "2023-04-08T00:01:51.210838Z",
     "start_time": "2023-04-08T00:01:51.192864Z"
    }
   },
   "outputs": [
    {
     "data": {
      "text/plain": [
       "array([[[  1,   2,   3,   4,   5,   6,   7,   8],\n",
       "        [  9,  10,  11,  12,  13,  14,  15,  16],\n",
       "        [ 17,  18,  19,  20,  21,  22,  23,  24],\n",
       "        [ 25,  26,  27,  28,  29,  30,  31,  32],\n",
       "        [ 33,  34,  35,  36,  37,  38,  39,  40],\n",
       "        [ 41,  42,  43,  44,  45,  46,  47,  48],\n",
       "        [ 49,  50,  51,  52,  53,  54,  55,  56]],\n",
       "\n",
       "       [[ 57,  58,  59,  60,  61,  62,  63,  64],\n",
       "        [ 65,  66,  67,  68,  69,  70,  71,  72],\n",
       "        [ 73,  74,  75,  76,  77,  78,  79,  80],\n",
       "        [ 81,  82,  83,  84,  85,  86,  87,  88],\n",
       "        [ 89,  90,  91,  92,  93,  94,  95,  96],\n",
       "        [ 97,  98,  99, 100, 101, 102, 103, 104],\n",
       "        [105, 106, 107, 108, 109, 110, 111, 112]],\n",
       "\n",
       "       [[113, 114, 115, 116, 117, 118, 119, 120],\n",
       "        [121, 122, 123, 124, 125, 126, 127, 128],\n",
       "        [129, 130, 131, 132, 133, 134, 135, 136],\n",
       "        [137, 138, 139, 140, 141, 142, 143, 144],\n",
       "        [145, 146, 147, 148, 149, 150, 151, 152],\n",
       "        [153, 154, 155, 156, 157, 158, 159, 160],\n",
       "        [161, 162, 163, 164, 165, 166, 167, 168]],\n",
       "\n",
       "       [[169, 170, 171, 172, 173, 174, 175, 176],\n",
       "        [177, 178, 179, 180, 181, 182, 183, 184],\n",
       "        [185, 186, 187, 188, 189, 190, 191, 192],\n",
       "        [193, 194, 195, 196, 197, 198, 199, 200],\n",
       "        [201, 202, 203, 204, 205, 206, 207, 208],\n",
       "        [209, 210, 211, 212, 213, 214, 215, 216],\n",
       "        [217, 218, 219, 220, 221, 222, 223, 224]],\n",
       "\n",
       "       [[225, 226, 227, 228, 229, 230, 231, 232],\n",
       "        [233, 234, 235, 236, 237, 238, 239, 240],\n",
       "        [241, 242, 243, 244, 245, 246, 247, 248],\n",
       "        [249, 250, 251, 252, 253, 254, 255, 256],\n",
       "        [257, 258, 259, 260, 261, 262, 263, 264],\n",
       "        [265, 266, 267, 268, 269, 270, 271, 272],\n",
       "        [273, 274, 275, 276, 277, 278, 279, 280]],\n",
       "\n",
       "       [[281, 282, 283, 284, 285, 286, 287, 288],\n",
       "        [289, 290, 291, 292, 293, 294, 295, 296],\n",
       "        [297, 298, 299, 300, 301, 302, 303, 304],\n",
       "        [305, 306, 307, 308, 309, 310, 311, 312],\n",
       "        [313, 314, 315, 316, 317, 318, 319, 320],\n",
       "        [321, 322, 323, 324, 325, 326, 327, 328],\n",
       "        [329, 330, 331, 332, 333, 334, 335, 336]]])"
      ]
     },
     "execution_count": 68,
     "metadata": {},
     "output_type": "execute_result"
    }
   ],
   "source": [
    "#Not:\n",
    "arr=np.arange(1,337).reshape(6,7,8)\n",
    "arr #[1,5,3]"
   ]
  },
  {
   "cell_type": "markdown",
   "id": "dcdb4e96",
   "metadata": {},
   "source": [
    "## How can I create an array with dimensions (6, 7, 8) using arange, and find its last element?"
   ]
  },
  {
   "cell_type": "code",
   "execution_count": 75,
   "id": "844deeaf",
   "metadata": {
    "ExecuteTime": {
     "end_time": "2023-04-08T00:08:17.007831Z",
     "start_time": "2023-04-08T00:08:16.996156Z"
    }
   },
   "outputs": [
    {
     "data": {
      "text/plain": [
       "335"
      ]
     },
     "execution_count": 75,
     "metadata": {},
     "output_type": "execute_result"
    }
   ],
   "source": [
    "\n",
    "arr = np.arange(0, 6*7*8, 1).reshape((6, 7, 8))\n",
    "\n",
    "last_element = arr[-1][-1][-1]\n",
    "\n",
    "last_element"
   ]
  },
  {
   "cell_type": "markdown",
   "id": "b1854b8f-fa9e-492e-9d76-8ee86416e163",
   "metadata": {},
   "source": [
    "## Given a one-dimensional array, make all elements between 3 and 8 inclusive negative."
   ]
  },
  {
   "cell_type": "code",
   "execution_count": 77,
   "id": "8dca3314",
   "metadata": {
    "ExecuteTime": {
     "end_time": "2023-04-08T00:11:51.261782Z",
     "start_time": "2023-04-08T00:11:51.254729Z"
    }
   },
   "outputs": [
    {
     "name": "stdout",
     "output_type": "stream",
     "text": [
      "[ 2 -3 -5 -7 -8  9 10]\n"
     ]
    }
   ],
   "source": [
    "#1.yol\n",
    "arr = np.array([2, 3, 5, 7, 8, 9, 10])\n",
    "mask = np.logical_and(arr >= 3, arr <= 8) \n",
    "arr[mask] *= -1\n",
    "print(arr)"
   ]
  },
  {
   "cell_type": "code",
   "execution_count": 11,
   "id": "70b02152",
   "metadata": {
    "ExecuteTime": {
     "end_time": "2023-04-07T13:19:08.138483Z",
     "start_time": "2023-04-07T13:19:08.121554Z"
    }
   },
   "outputs": [
    {
     "data": {
      "text/plain": [
       "array([ 1,  2, -3, -4, -5, -6, -7, -8,  9, 10])"
      ]
     },
     "execution_count": 11,
     "metadata": {},
     "output_type": "execute_result"
    }
   ],
   "source": [
    "#2.yol\n",
    "arr=np.arange(1,11)\n",
    "\n",
    "arr[2:8]=arr[2:8]*-1\n",
    "arr"
   ]
  },
  {
   "cell_type": "code",
   "execution_count": 10,
   "id": "a3b58734",
   "metadata": {
    "ExecuteTime": {
     "end_time": "2023-04-07T13:18:49.417845Z",
     "start_time": "2023-04-07T13:18:49.405275Z"
    }
   },
   "outputs": [
    {
     "name": "stdout",
     "output_type": "stream",
     "text": [
      "[ 0  1  2 -3 -4 -5 -6 -7 -8  9 10]\n"
     ]
    }
   ],
   "source": [
    "#3.yol\n",
    "Z = np.arange(11)\n",
    "Z[(3 <= Z) & (Z <= 8)] *= -1\n",
    "print(Z)"
   ]
  },
  {
   "cell_type": "markdown",
   "id": "afc74cce-1589-434f-929e-d4f809eac34d",
   "metadata": {},
   "source": [
    "## Create a 5x5 matrix with row values ranging from 0 to 4"
   ]
  },
  {
   "cell_type": "code",
   "execution_count": 80,
   "id": "522397f4",
   "metadata": {
    "ExecuteTime": {
     "end_time": "2023-04-08T00:19:16.671568Z",
     "start_time": "2023-04-08T00:19:16.652554Z"
    }
   },
   "outputs": [
    {
     "data": {
      "text/plain": [
       "array([[0, 1, 2, 3, 4],\n",
       "       [0, 1, 2, 3, 4],\n",
       "       [0, 1, 2, 3, 4],\n",
       "       [0, 1, 2, 3, 4],\n",
       "       [0, 1, 2, 3, 4]])"
      ]
     },
     "execution_count": 80,
     "metadata": {},
     "output_type": "execute_result"
    }
   ],
   "source": [
    "#1 yol\n",
    "import numpy as np\n",
    "x = np.zeros((5,5), dtype=int) + np.arange(5)\n",
    "x"
   ]
  },
  {
   "cell_type": "code",
   "execution_count": 83,
   "id": "1cdaf7b7",
   "metadata": {
    "ExecuteTime": {
     "end_time": "2023-04-08T00:21:31.501501Z",
     "start_time": "2023-04-08T00:21:31.482442Z"
    }
   },
   "outputs": [
    {
     "data": {
      "text/plain": [
       "array([[0, 1, 2, 3, 4],\n",
       "       [0, 1, 2, 3, 4],\n",
       "       [0, 1, 2, 3, 4],\n",
       "       [0, 1, 2, 3, 4],\n",
       "       [0, 1, 2, 3, 4]])"
      ]
     },
     "execution_count": 83,
     "metadata": {},
     "output_type": "execute_result"
    }
   ],
   "source": [
    "#2 yol\n",
    "np.tile([0,1,2,3,4],5).reshape(5,5)"
   ]
  },
  {
   "cell_type": "markdown",
   "id": "cbea287c-b2ef-4c94-b4bc-e047ee69abd1",
   "metadata": {},
   "source": [
    "## Create a vector of size 12 with values ranging from 0 to 1, both excluded"
   ]
  },
  {
   "cell_type": "code",
   "execution_count": 14,
   "id": "3b2b2c35",
   "metadata": {
    "ExecuteTime": {
     "end_time": "2023-04-07T13:26:11.413036Z",
     "start_time": "2023-04-07T13:26:11.392526Z"
    }
   },
   "outputs": [
    {
     "data": {
      "text/plain": [
       "array([0.21635867, 0.46054237, 0.7249083 , 0.82134814, 0.79325814,\n",
       "       0.69088734, 0.1528408 , 0.59485481, 0.2463285 , 0.22145084,\n",
       "       0.1590842 , 0.92333848])"
      ]
     },
     "execution_count": 14,
     "metadata": {},
     "output_type": "execute_result"
    }
   ],
   "source": [
    "# 1. yol\n",
    "np.random.rand(12)"
   ]
  },
  {
   "cell_type": "code",
   "execution_count": 16,
   "id": "1f729248",
   "metadata": {
    "ExecuteTime": {
     "end_time": "2023-04-07T13:28:33.965239Z",
     "start_time": "2023-04-07T13:28:33.948943Z"
    }
   },
   "outputs": [
    {
     "name": "stdout",
     "output_type": "stream",
     "text": [
      "[0.07142857 0.14285714 0.21428571 0.28571429 0.35714286 0.42857143\n",
      " 0.5        0.57142857 0.64285714 0.71428571 0.78571429 0.85714286]\n"
     ]
    }
   ],
   "source": [
    "#2. yol\n",
    "x = np.linspace(0,1,14,endpoint=False)[1:-1]\n",
    "print(x)"
   ]
  },
  {
   "cell_type": "markdown",
   "id": "1dc7d714-45a5-4bc7-a52e-37abe31bfb1f",
   "metadata": {},
   "source": [
    "## Create a random vector of size 10 and sort it"
   ]
  },
  {
   "cell_type": "code",
   "execution_count": 68,
   "id": "13a95c77",
   "metadata": {
    "ExecuteTime": {
     "end_time": "2023-04-05T16:31:59.352300Z",
     "start_time": "2023-04-05T16:31:59.344298Z"
    }
   },
   "outputs": [
    {
     "data": {
      "text/plain": [
       "array([0.05672149, 0.12724187, 0.24457887, 0.32134706, 0.39194558,\n",
       "       0.40073505, 0.57029123, 0.77088397, 0.91575535, 0.94197222])"
      ]
     },
     "execution_count": 68,
     "metadata": {},
     "output_type": "execute_result"
    }
   ],
   "source": [
    "S= np.sort(np.random.rand(10))\n",
    "S\n"
   ]
  },
  {
   "cell_type": "markdown",
   "id": "0d58bab8-cab1-4318-9405-6e54a17ac346",
   "metadata": {},
   "source": [
    "## Consider two random array A anb B, check if they are equal"
   ]
  },
  {
   "cell_type": "code",
   "execution_count": 84,
   "id": "07d21f6d",
   "metadata": {
    "ExecuteTime": {
     "end_time": "2023-04-08T00:35:57.297465Z",
     "start_time": "2023-04-08T00:35:57.285131Z"
    },
    "scrolled": true
   },
   "outputs": [
    {
     "name": "stdout",
     "output_type": "stream",
     "text": [
      "False\n"
     ]
    }
   ],
   "source": [
    "#1.yol\n",
    "A = np.random.randint(0,2,6)\n",
    "\n",
    "B = np.random.randint(0,2,6)\n",
    "\n",
    "array_equal = np.allclose(A,B)\n",
    "print(array_equal)"
   ]
  },
  {
   "cell_type": "code",
   "execution_count": null,
   "id": "48640fe1",
   "metadata": {},
   "outputs": [],
   "source": [
    "#2.yol\n",
    "np.allclose(np.random.randint(1,10,3), np.random.randint(1,10,3)) "
   ]
  },
  {
   "cell_type": "markdown",
   "id": "ba5a9cfe",
   "metadata": {},
   "source": [
    "numpy.allclose() fonksiyonu, iki NumPy dizisi arasındaki tüm elemanların belirli bir tolerans aralığı içinde eşit veya neredeyse eşit olup olmadığını kontrol eden bir fonksiyondur.\n",
    "\n",
    "Bu fonksiyon, özellikle noktalı sayılar (float) gibi kesin değerleri karşılaştırmak zor olduğunda veya küçük hataların kabul edilebilir olduğu durumlarda kullanışlıdır."
   ]
  },
  {
   "cell_type": "code",
   "execution_count": 86,
   "id": "2ae62822",
   "metadata": {
    "ExecuteTime": {
     "end_time": "2023-04-08T00:37:22.551821Z",
     "start_time": "2023-04-08T00:37:22.546173Z"
    }
   },
   "outputs": [
    {
     "name": "stdout",
     "output_type": "stream",
     "text": [
      "A and B are not equal\n"
     ]
    }
   ],
   "source": [
    "#3.yol\n",
    "A = np.random.rand(5)\n",
    "B = np.random.rand(5)\n",
    "\n",
    "if np.array_equal(A, B):\n",
    "    print(\"A and B are equal\")\n",
    "else:\n",
    "    print(\"A and B are not equal\")"
   ]
  },
  {
   "cell_type": "code",
   "execution_count": 85,
   "id": "efd39fe0",
   "metadata": {
    "ExecuteTime": {
     "end_time": "2023-04-08T00:36:34.423081Z",
     "start_time": "2023-04-08T00:36:34.401409Z"
    }
   },
   "outputs": [
    {
     "data": {
      "text/plain": [
       "array([0.24040699, 0.76580593, 0.06862126, 0.7290748 , 0.40468975])"
      ]
     },
     "execution_count": 85,
     "metadata": {},
     "output_type": "execute_result"
    }
   ],
   "source": [
    "#A = np.random.rand(5)\n",
    "#A"
   ]
  },
  {
   "cell_type": "markdown",
   "id": "add060d3-6cca-47eb-8a48-2b9f33227130",
   "metadata": {},
   "source": [
    "## Create random vector of size 10 and replace the maximum value by 0"
   ]
  },
  {
   "cell_type": "code",
   "execution_count": 90,
   "id": "6edc3993",
   "metadata": {
    "ExecuteTime": {
     "end_time": "2023-04-08T00:44:05.910752Z",
     "start_time": "2023-04-08T00:44:05.893731Z"
    }
   },
   "outputs": [
    {
     "data": {
      "text/plain": [
       "array([37, 30, 30,  3, 16, 30, 14, 17,  0,  8])"
      ]
     },
     "execution_count": 90,
     "metadata": {},
     "output_type": "execute_result"
    }
   ],
   "source": [
    "x = np.random.randint(1,50,10)\n",
    "x[x.argmax()] = 0\n",
    "x"
   ]
  },
  {
   "cell_type": "markdown",
   "id": "874129d8-fe2e-41c7-aaa5-6e7578a8d6ad",
   "metadata": {},
   "source": [
    "## How to swap two rows of an array?"
   ]
  },
  {
   "cell_type": "markdown",
   "id": "7ce76bca",
   "metadata": {
    "ExecuteTime": {
     "end_time": "2023-04-05T17:04:37.617950Z",
     "start_time": "2023-04-05T17:04:37.607779Z"
    }
   },
   "source": [
    "Programlama terimleri arasında, swap iki değişken veya değerin değiştirilmesini ifade eder. Swap işlemi, sıralama, karıştırma veya verilerin yeniden düzenlenmesi gibi çeşitli durumlarda kullanışlı olabilir.\n",
    "\n",
    "Python'da, iki değişkenin değerlerini birbirleriyle değiştirmek için atama operatörü kullanarak ve geçici bir değişken kullanmadan yapabiliriz. "
   ]
  },
  {
   "cell_type": "code",
   "execution_count": 77,
   "id": "18f95653",
   "metadata": {
    "ExecuteTime": {
     "end_time": "2023-04-05T17:14:55.288445Z",
     "start_time": "2023-04-05T17:14:55.271077Z"
    }
   },
   "outputs": [
    {
     "name": "stdout",
     "output_type": "stream",
     "text": [
      "[[4 5 6]\n",
      " [1 2 3]\n",
      " [7 8 9]]\n"
     ]
    }
   ],
   "source": [
    "# 1. yol\n",
    "arr = np.array([[1, 2, 3], [4, 5, 6], [7, 8, 9]])\n",
    "arr[[0, 1]] = arr[[1, 0]]\n",
    "\n",
    "arr"
   ]
  },
  {
   "cell_type": "code",
   "execution_count": 95,
   "id": "b30b2f2e",
   "metadata": {
    "ExecuteTime": {
     "end_time": "2023-04-08T00:48:42.375203Z",
     "start_time": "2023-04-08T00:48:42.355403Z"
    }
   },
   "outputs": [
    {
     "data": {
      "text/plain": [
       "array([[ 0,  1,  2,  3,  4],\n",
       "       [ 5,  6,  7,  8,  9],\n",
       "       [10, 11, 12, 13, 14],\n",
       "       [15, 16, 17, 18, 19],\n",
       "       [20, 21, 22, 23, 24]])"
      ]
     },
     "execution_count": 95,
     "metadata": {},
     "output_type": "execute_result"
    }
   ],
   "source": [
    "#NOT\n",
    "A = np.arange(25).reshape(5,5)\n",
    "A"
   ]
  },
  {
   "cell_type": "code",
   "execution_count": 94,
   "id": "3748920a",
   "metadata": {
    "ExecuteTime": {
     "end_time": "2023-04-08T00:47:45.631796Z",
     "start_time": "2023-04-08T00:47:45.612638Z"
    }
   },
   "outputs": [
    {
     "data": {
      "text/plain": [
       "array([[10, 11, 12, 13, 14],\n",
       "       [ 5,  6,  7,  8,  9],\n",
       "       [ 0,  1,  2,  3,  4],\n",
       "       [15, 16, 17, 18, 19],\n",
       "       [20, 21, 22, 23, 24]])"
      ]
     },
     "execution_count": 94,
     "metadata": {},
     "output_type": "execute_result"
    }
   ],
   "source": [
    "#2.yol\n",
    "A = np.arange(25).reshape(5,5)\n",
    "A[[0,2]] =A[[2,0]]\n",
    "A"
   ]
  },
  {
   "cell_type": "markdown",
   "id": "3d99138b-91e6-4d19-9195-1f384a68063b",
   "metadata": {},
   "source": [
    "## How to find the most frequent value in an array?"
   ]
  },
  {
   "cell_type": "code",
   "execution_count": 100,
   "id": "19a6efab",
   "metadata": {
    "ExecuteTime": {
     "end_time": "2023-04-08T00:56:24.544288Z",
     "start_time": "2023-04-08T00:56:24.536834Z"
    }
   },
   "outputs": [
    {
     "name": "stdout",
     "output_type": "stream",
     "text": [
      "The most frequent value is: 4\n"
     ]
    }
   ],
   "source": [
    "\n",
    "arr = np.array([1, 4,2, 3,4, 2, 2, 3, 4, 4, 4, 4])\n",
    "counts = np.bincount(arr) # elenmanlarin frequentisini sayiyor. \n",
    "most_frequent_value = np.argmax(counts)\n",
    "print(\"The most frequent value is:\", most_frequent_value)"
   ]
  },
  {
   "cell_type": "code",
   "execution_count": null,
   "id": "78a48cc9",
   "metadata": {},
   "outputs": [],
   "source": []
  },
  {
   "attachments": {
    "logo.png": {
     "image/png": "[encoded data removed]"
    }
   },
   "cell_type": "markdown",
   "id": "a793f497",
   "metadata": {},
   "source": [
    "![logo.png](attachment:logo.png)"
   ]
  },
  {
   "cell_type": "markdown",
   "id": "5c158391",
   "metadata": {},
   "source": [
    "To find the most frequent value in a NumPy array, you can use the numpy.bincount() and numpy.argmax() functions.\n",
    "\n",
    "The numpy.bincount() function counts the number of occurrences of each integer value in the array, and returns an array where the i-th element contains the number of occurrences of the value i in the input array.\n",
    "\n",
    "The numpy.argmax() function returns the index of the maximum value in an array."
   ]
  },
  {
   "cell_type": "code",
   "execution_count": null,
   "id": "28c388e3",
   "metadata": {},
   "outputs": [],
   "source": []
  }
 ],
 "metadata": {
  "kernelspec": {
   "display_name": "Python 3 (ipykernel)",
   "language": "python",
   "name": "python3"
  },
  "language_info": {
   "codemirror_mode": {
    "name": "ipython",
    "version": 3
   },
   "file_extension": ".py",
   "mimetype": "text/x-python",
   "name": "python",
   "nbconvert_exporter": "python",
   "pygments_lexer": "ipython3",
   "version": "3.9.13"
  },
  "toc": {
   "base_numbering": 1,
   "nav_menu": {},
   "number_sections": true,
   "sideBar": true,
   "skip_h1_title": false,
   "title_cell": "Table of Contents",
   "title_sidebar": "Contents",
   "toc_cell": false,
   "toc_position": {},
   "toc_section_display": true,
   "toc_window_display": false
  },
  "varInspector": {
   "cols": {
    "lenName": 16,
    "lenType": 16,
    "lenVar": 40
   },
   "kernels_config": {
    "python": {
     "delete_cmd_postfix": "",
     "delete_cmd_prefix": "del ",
     "library": "var_list.py",
     "varRefreshCmd": "print(var_dic_list())"
    },
    "r": {
     "delete_cmd_postfix": ") ",
     "delete_cmd_prefix": "rm(",
     "library": "var_list.r",
     "varRefreshCmd": "cat(var_dic_list()) "
    }
   },
   "types_to_exclude": [
    "module",
    "function",
    "builtin_function_or_method",
    "instance",
    "_Feature"
   ],
   "window_display": false
  }
 },
 "nbformat": 4,
 "nbformat_minor": 5
}
